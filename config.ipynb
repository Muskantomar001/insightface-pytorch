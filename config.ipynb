{
  "nbformat": 4,
  "nbformat_minor": 0,
  "metadata": {
    "colab": {
      "name": "config",
      "provenance": []
    },
    "kernelspec": {
      "name": "python3",
      "display_name": "Python 3"
    }
  },
  "cells": [
    {
      "cell_type": "code",
      "metadata": {
        "id": "cDWy05fT1H-E",
        "colab_type": "code",
        "colab": {}
      },
      "source": [
        "#config.py\n",
        "\n",
        "import os\n",
        "\n",
        "import torch\n",
        "\n",
        "device = torch.device('cuda' if torch.cuda.is_available() else 'cpu')  # sets device for model and PyTorch tensors\n",
        "\n",
        "# Model parameters\n",
        "image_w = 112\n",
        "image_h = 112\n",
        "channel = 3\n",
        "emb_size = 512\n",
        "\n",
        "# Training parameters\n",
        "num_workers = 1  # for data-loading; right now, only 1 works with h5py\n",
        "grad_clip = 5.  # clip gradients at an absolute value of\n",
        "print_freq = 100  # print training/validation stats  every __ batches\n",
        "checkpoint = None  # path to checkpoint, None if none\n",
        "\n",
        "# Data parameters\n",
        "num_classes = 93431\n",
        "num_samples = 5179510\n",
        "DATA_DIR = 'data'\n",
        "# faces_ms1m_folder = 'data/faces_ms1m_112x112'\n",
        "faces_ms1m_folder = 'data/ms1m-retinaface-t1'\n",
        "path_imgidx = os.path.join(faces_ms1m_folder, 'train.idx')\n",
        "path_imgrec = os.path.join(faces_ms1m_folder, 'train.rec')\n",
        "IMG_DIR = 'data/images'\n",
        "pickle_file = 'data/faces_ms1m_112x112.pickle'"
      ],
      "execution_count": 0,
      "outputs": []
    }
  ]
}