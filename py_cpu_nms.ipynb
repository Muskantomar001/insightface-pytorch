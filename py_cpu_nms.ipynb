{
  "nbformat": 4,
  "nbformat_minor": 0,
  "metadata": {
    "colab": {
      "name": "py_cpu_nms",
      "provenance": []
    },
    "kernelspec": {
      "name": "python3",
      "display_name": "Python 3"
    }
  },
  "cells": [
    {
      "cell_type": "code",
      "metadata": {
        "id": "-kxUxYKTT5no",
        "colab_type": "code",
        "colab": {}
      },
      "source": [
        "#utils\n",
        "#nms\n",
        "#py_cpu_nms.py\n",
        "\n",
        "import numpy as np\n",
        "\n",
        "def py_cpu_nms(dets, thresh):\n",
        "    \"\"\"Pure Python NMS baseline.\"\"\"\n",
        "    x1 = dets[:, 0]\n",
        "    y1 = dets[:, 1]\n",
        "    x2 = dets[:, 2]\n",
        "    y2 = dets[:, 3]\n",
        "    scores = dets[:, 4]\n",
        "\n",
        "    areas = (x2 - x1 + 1) * (y2 - y1 + 1)\n",
        "    order = scores.argsort()[::-1]\n",
        "\n",
        "    keep = []\n",
        "    while order.size > 0:\n",
        "        i = order[0]\n",
        "        keep.append(i)\n",
        "        xx1 = np.maximum(x1[i], x1[order[1:]])\n",
        "        yy1 = np.maximum(y1[i], y1[order[1:]])\n",
        "        xx2 = np.minimum(x2[i], x2[order[1:]])\n",
        "        yy2 = np.minimum(y2[i], y2[order[1:]])\n",
        "\n",
        "        w = np.maximum(0.0, xx2 - xx1 + 1)\n",
        "        h = np.maximum(0.0, yy2 - yy1 + 1)\n",
        "        inter = w * h\n",
        "        ovr = inter / (areas[i] + areas[order[1:]] - inter)\n",
        "\n",
        "        inds = np.where(ovr <= thresh)[0]\n",
        "        order = order[inds + 1]\n",
        "\n",
        "    return keep"
      ],
      "execution_count": 0,
      "outputs": []
    }
  ]
}