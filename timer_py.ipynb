{
  "nbformat": 4,
  "nbformat_minor": 0,
  "metadata": {
    "colab": {
      "name": "timer.py",
      "provenance": []
    },
    "kernelspec": {
      "name": "python3",
      "display_name": "Python 3"
    }
  },
  "cells": [
    {
      "cell_type": "code",
      "metadata": {
        "id": "nEih9ZX3YLWx",
        "colab_type": "code",
        "colab": {}
      },
      "source": [
        "#retinaface\n",
        "#utils\n",
        "#timer.py\n",
        "import time\n",
        "\n",
        "\n",
        "class Timer(object):\n",
        "    \"\"\"A simple timer.\"\"\"\n",
        "    def __init__(self):\n",
        "        self.total_time = 0.\n",
        "        self.calls = 0\n",
        "        self.start_time = 0.\n",
        "        self.diff = 0.\n",
        "        self.average_time = 0.\n",
        "\n",
        "    def tic(self):\n",
        "        # using time.time instead of time.clock because time time.clock\n",
        "        # does not normalize for multithreading\n",
        "        self.start_time = time.time()\n",
        "\n",
        "    def toc(self, average=True):\n",
        "        self.diff = time.time() - self.start_time\n",
        "        self.total_time += self.diff\n",
        "        self.calls += 1\n",
        "        self.average_time = self.total_time / self.calls\n",
        "        if average:\n",
        "            return self.average_time\n",
        "        else:\n",
        "            return self.diff\n",
        "\n",
        "    def clear(self):\n",
        "        self.total_time = 0.\n",
        "        self.calls = 0\n",
        "        self.start_time = 0.\n",
        "        self.diff = 0.\n",
        "        self.average_time = 0."
      ],
      "execution_count": 0,
      "outputs": []
    }
  ]
}