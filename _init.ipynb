{
  "nbformat": 4,
  "nbformat_minor": 0,
  "metadata": {
    "colab": {
      "name": "_init",
      "provenance": []
    },
    "kernelspec": {
      "name": "python3",
      "display_name": "Python 3"
    }
  },
  "cells": [
    {
      "cell_type": "code",
      "metadata": {
        "id": "e93W28-8BxQw",
        "colab_type": "code",
        "colab": {}
      },
      "source": [
        "#retinaface\n",
        "#data\n",
        "#_init.py\n",
        "from wider_face import WiderFaceDetection, detection_collate\n",
        "from data_augment import *\n",
        "from config import *\n",
        "from config1 import *"
      ],
      "execution_count": 0,
      "outputs": []
    },
    {
      "cell_type": "code",
      "metadata": {
        "id": "wjQHA5SYEP1A",
        "colab_type": "code",
        "outputId": "99a86a26-a6b0-48cc-d84c-5fbef9a63389",
        "colab": {
          "base_uri": "https://localhost:8080/",
          "height": 126
        }
      },
      "source": [
        "import os\n",
        "os.chdir(\"/content/drive/My Drive/DLDatasets\")\n",
        "!ls"
      ],
      "execution_count": 0,
      "outputs": [
        {
          "output_type": "stream",
          "text": [
            "align_faces.py\t first_stage.py  models.py\t    retinaface.py\n",
            "box_utils1.py\t _init_.py\t multibox_loss1.py  visualization_utils.py\n",
            "config1.py\t insightface\t net.py\t\t    wider_face.py\n",
            "config.py\t insightface1\t prior_box.py\n",
            "data\t\t InsightFace-v2  __pycache__\n",
            "data_augment.py  loader.py\t py_cpu_nms.py\n"
          ],
          "name": "stdout"
        }
      ]
    },
    {
      "cell_type": "code",
      "metadata": {
        "id": "ThahYx_MEVzw",
        "colab_type": "code",
        "colab": {}
      },
      "source": [
        "!cp \"/content/align_faces.py\" ."
      ],
      "execution_count": 0,
      "outputs": []
    },
    {
      "cell_type": "code",
      "metadata": {
        "id": "VPHeKDVkFjvp",
        "colab_type": "code",
        "colab": {}
      },
      "source": [
        "!cp \"/content/config1.py\" ."
      ],
      "execution_count": 0,
      "outputs": []
    },
    {
      "cell_type": "code",
      "metadata": {
        "id": "707Nh0Cs_U-t",
        "colab_type": "code",
        "colab": {}
      },
      "source": [
        "!cp \"/content/config.py\" ."
      ],
      "execution_count": 0,
      "outputs": []
    },
    {
      "cell_type": "code",
      "metadata": {
        "id": "wVR2xG5DFpBZ",
        "colab_type": "code",
        "colab": {}
      },
      "source": [
        "!cp \"/content/data_augment.py\" ."
      ],
      "execution_count": 0,
      "outputs": []
    },
    {
      "cell_type": "code",
      "metadata": {
        "id": "diNmMULJFstn",
        "colab_type": "code",
        "colab": {}
      },
      "source": [
        "!cp \"/content/wider_face.py\" ."
      ],
      "execution_count": 0,
      "outputs": []
    }
  ]
}