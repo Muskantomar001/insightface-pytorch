{
  "nbformat": 4,
  "nbformat_minor": 0,
  "metadata": {
    "colab": {
      "name": "focal_loss",
      "provenance": []
    },
    "kernelspec": {
      "name": "python3",
      "display_name": "Python 3"
    }
  },
  "cells": [
    {
      "cell_type": "code",
      "metadata": {
        "id": "-BbkXt8TRVaQ",
        "colab_type": "code",
        "colab": {}
      },
      "source": [
        "#focal_loss.py\n",
        "\n",
        "import torch\n",
        "import torch.nn as nn\n",
        "\n",
        "\n",
        "class FocalLoss(nn.Module):\n",
        "\n",
        "    def __init__(self, gamma=0):\n",
        "        super(FocalLoss, self).__init__()\n",
        "        self.gamma = gamma\n",
        "        self.ce = torch.nn.CrossEntropyLoss()\n",
        "\n",
        "    def forward(self, input, target):\n",
        "        logp = self.ce(input, target)\n",
        "        p = torch.exp(-logp)\n",
        "        loss = (1 - p) ** self.gamma * logp\n",
        "        return loss.mean()\n",
        "\n",
        "# class FocalLoss(nn.Module):\n",
        "#     def __init__(self, gamma=0, size_average=True):\n",
        "#         super(FocalLoss, self).__init__()\n",
        "#         self.gamma = gamma\n",
        "#\n",
        "#     def forward(self, input, target):\n",
        "#         if input.dim() > 2:\n",
        "#             input = input.view(input.size(0), input.size(1), -1)  # N,C,H,W => N,C,H*W\n",
        "#             input = input.transpose(1, 2)  # N,C,H*W => N,H*W,C\n",
        "#             input = input.contiguous().view(-1, input.size(2))  # N,H*W,C => N*H*W,C\n",
        "#         target = target.view(-1, 1)\n",
        "#\n",
        "#         logpt = F.log_softmax(input)\n",
        "#         logpt = logpt.gather(1, target)\n",
        "#         logpt = logpt.view(-1)\n",
        "#         pt = Variable(logpt.data.exp())\n",
        "#\n",
        "#         loss = -1 * (1 - pt) ** self.gamma * logpt\n",
        "#         return loss.mean()\n"
      ],
      "execution_count": 0,
      "outputs": []
    }
  ]
}