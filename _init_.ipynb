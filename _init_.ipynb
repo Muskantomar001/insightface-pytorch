{
  "nbformat": 4,
  "nbformat_minor": 0,
  "metadata": {
    "colab": {
      "name": "_init_",
      "provenance": []
    },
    "kernelspec": {
      "name": "python3",
      "display_name": "Python 3"
    }
  },
  "cells": [
    {
      "cell_type": "code",
      "metadata": {
        "id": "JmL8nLohJ-tn",
        "colab_type": "code",
        "colab": {}
      },
      "source": [
        "#retinaface\n",
        "#layers\n",
        "#modules\n",
        "#_init_.py\n",
        "from multibox_loss1 import MultiBoxLoss\n",
        "\n",
        "__all__ = ['MultiBoxLoss']"
      ],
      "execution_count": 0,
      "outputs": []
    },
    {
      "cell_type": "code",
      "metadata": {
        "id": "Va2QWIfnnVdK",
        "colab_type": "code",
        "colab": {}
      },
      "source": [
        "!cp \"/content/multibox_loss1.py\" ."
      ],
      "execution_count": 0,
      "outputs": []
    },
    {
      "cell_type": "code",
      "metadata": {
        "id": "DOOskPXKP_od",
        "colab_type": "code",
        "outputId": "8be67dc8-7f40-4a3d-ba17-1b83d516d57a",
        "colab": {
          "base_uri": "https://localhost:8080/",
          "height": 204
        }
      },
      "source": [
        "import os\n",
        "os.chdir(\"/content/drive/My Drive/DLDatasets\")\n",
        "!ls"
      ],
      "execution_count": 13,
      "outputs": [
        {
          "output_type": "stream",
          "text": [
            "align_faces.py\t  image_aug.ipynb\t   multibox_loss1.py\n",
            "box_utils1.py\t  _init_.py\t\t   net.py\n",
            "box_utils.py\t  insightface\t\t   prior_box.py\n",
            "config1.py\t  insightface1\t\t   __pycache__\n",
            "config.py\t  InsightFace-v2\t   py_cpu_nms.py\n",
            "data\t\t  lfw_eval.py\t\t   retinaface.py\n",
            "data_augment.py   loader.py\t\t   train.py\n",
            "data_gen.ipynb\t  mobilenet0.25_Final.pth  visualization_utils.py\n",
            "data_gen.py\t  models1.ipynb\t\t   wider_face.py\n",
            "first_stage.py\t  models.py\n",
            "focal_loss.ipynb  msceleb.zip\n"
          ],
          "name": "stdout"
        }
      ]
    },
    {
      "cell_type": "code",
      "metadata": {
        "id": "WhCigUj9fy2n",
        "colab_type": "code",
        "colab": {}
      },
      "source": [
        "!cp \"/content/multibox_loss1.py\" ."
      ],
      "execution_count": 0,
      "outputs": []
    }
  ]
}