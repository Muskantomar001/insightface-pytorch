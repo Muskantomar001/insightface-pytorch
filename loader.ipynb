{
  "nbformat": 4,
  "nbformat_minor": 0,
  "metadata": {
    "colab": {
      "name": "loader",
      "provenance": []
    },
    "kernelspec": {
      "name": "python3",
      "display_name": "Python 3"
    }
  },
  "cells": [
    {
      "cell_type": "code",
      "metadata": {
        "id": "XTHCOhZzZfQV",
        "colab_type": "code",
        "colab": {}
      },
      "source": [
        "#retinaface\n",
        "#loader.py\n",
        "\n",
        "from __future__ import print_function\n",
        "\n",
        "import torch\n",
        "\n",
        "from config1 import cfg_mnet\n",
        "from retinaface import RetinaFace\n",
        "\n",
        "\n",
        "def check_keys(model, pretrained_state_dict):\n",
        "    ckpt_keys = set(pretrained_state_dict.keys())\n",
        "    model_keys = set(model.state_dict().keys())\n",
        "    used_pretrained_keys = model_keys & ckpt_keys\n",
        "    unused_pretrained_keys = ckpt_keys - model_keys\n",
        "    missing_keys = model_keys - ckpt_keys\n",
        "    # print('Missing keys:{}'.format(len(missing_keys)))\n",
        "    # print('Unused checkpoint keys:{}'.format(len(unused_pretrained_keys)))\n",
        "    # print('Used keys:{}'.format(len(used_pretrained_keys)))\n",
        "    assert len(used_pretrained_keys) > 0, 'load NONE from pretrained checkpoint'\n",
        "    return True\n",
        "\n",
        "\n",
        "def remove_prefix(state_dict, prefix):\n",
        "    ''' Old style model is stored with all names of parameters sharing common prefix 'module.' '''\n",
        "    # print('remove prefix \\'{}\\''.format(prefix))\n",
        "    f = lambda x: x.split(prefix, 1)[-1] if x.startswith(prefix) else x\n",
        "    return {f(key): value for key, value in state_dict.items()}\n",
        "\n",
        "\n",
        "def load_model():\n",
        "    pretrained_path = 'retinaface/weights/mobilenet0.25_Final.pth'\n",
        "    # print('Loading pretrained model from {}'.format(pretrained_path))\n",
        "    model = RetinaFace(cfg=cfg_mnet, phase='test')\n",
        "\n",
        "    device = torch.cuda.current_device()\n",
        "    pretrained_dict = torch.load(pretrained_path, map_location=lambda storage, loc: storage.cuda(device))\n",
        "    if \"state_dict\" in pretrained_dict.keys():\n",
        "        pretrained_dict = remove_prefix(pretrained_dict['state_dict'], 'module.')\n",
        "    else:\n",
        "        pretrained_dict = remove_prefix(pretrained_dict, 'module.')\n",
        "    check_keys(model, pretrained_dict)\n",
        "    model.load_state_dict(pretrained_dict, strict=False)\n",
        "    # print('Finished loading model!')\n",
        "    return model"
      ],
      "execution_count": 0,
      "outputs": []
    }
  ]
}