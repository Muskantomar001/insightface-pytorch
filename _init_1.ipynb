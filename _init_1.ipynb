{
  "nbformat": 4,
  "nbformat_minor": 0,
  "metadata": {
    "colab": {
      "name": "_init_1",
      "provenance": []
    },
    "kernelspec": {
      "name": "python3",
      "display_name": "Python 3"
    }
  },
  "cells": [
    {
      "cell_type": "code",
      "metadata": {
        "id": "NLaxkMz0Lr7a",
        "colab_type": "code",
        "colab": {}
      },
      "source": [
        "#retinaface\n",
        "#layers\n",
        "#_init.py\n",
        "\n",
        "from _init_ import *\n",
        "from multibox_loss1 import *\n",
        "from prior_box import *"
      ],
      "execution_count": 0,
      "outputs": []
    },
    {
      "cell_type": "code",
      "metadata": {
        "id": "DOOskPXKP_od",
        "colab_type": "code",
        "outputId": "1b2998f8-c51a-459a-8ac6-7d980981e19c",
        "colab": {
          "base_uri": "https://localhost:8080/",
          "height": 204
        }
      },
      "source": [
        "import os\n",
        "os.chdir(\"/content/drive/My Drive/DLDatasets\")\n",
        "!ls"
      ],
      "execution_count": 17,
      "outputs": [
        {
          "output_type": "stream",
          "text": [
            "align_faces.py\t  image_aug.ipynb\t   msceleb.zip\n",
            "box_utils1.py\t  _init_.py\t\t   multibox_loss1.py\n",
            "box_utils.py\t  _init.py\t\t   net.py\n",
            "config1.py\t  insightface\t\t   prior_box.py\n",
            "config.py\t  insightface1\t\t   __pycache__\n",
            "data\t\t  InsightFace-v2\t   py_cpu_nms.py\n",
            "data_augment.py   lfw_eval.py\t\t   retinaface.py\n",
            "data_gen.ipynb\t  loader.py\t\t   train.py\n",
            "data_gen.py\t  mobilenet0.25_Final.pth  visualization_utils.py\n",
            "first_stage.py\t  models1.ipynb\t\t   wider_face.py\n",
            "focal_loss.ipynb  models.py\n"
          ],
          "name": "stdout"
        }
      ]
    },
    {
      "cell_type": "code",
      "metadata": {
        "id": "nYG252rvQFTE",
        "colab_type": "code",
        "colab": {}
      },
      "source": [
        "!cp \"/content/_init_.py\" ."
      ],
      "execution_count": 0,
      "outputs": []
    },
    {
      "cell_type": "code",
      "metadata": {
        "id": "-MI-9AegpNgO",
        "colab_type": "code",
        "colab": {}
      },
      "source": [
        "!cp \"/content/_init.py\" ."
      ],
      "execution_count": 0,
      "outputs": []
    },
    {
      "cell_type": "code",
      "metadata": {
        "id": "EzaWP5hCQK7s",
        "colab_type": "code",
        "colab": {}
      },
      "source": [
        "!cp \"/content/multibox_loss.py\" ."
      ],
      "execution_count": 0,
      "outputs": []
    },
    {
      "cell_type": "code",
      "metadata": {
        "id": "vBwvOGmeQSPY",
        "colab_type": "code",
        "colab": {}
      },
      "source": [
        "!cp \"/content/prior_box.py\" ."
      ],
      "execution_count": 0,
      "outputs": []
    }
  ]
}