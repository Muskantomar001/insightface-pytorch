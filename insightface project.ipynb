{
  "nbformat": 4,
  "nbformat_minor": 0,
  "metadata": {
    "colab": {
      "name": "Untitled",
      "provenance": []
    },
    "kernelspec": {
      "name": "python3",
      "display_name": "Python 3"
    },
    "accelerator": "GPU"
  },
  "cells": [
    {
      "cell_type": "code",
      "metadata": {
        "id": "oEW5zBBlf7vR",
        "colab_type": "code",
        "outputId": "dafd51ba-fb24-4628-e26d-103ce40d3e96",
        "colab": {
          "base_uri": "https://localhost:8080/",
          "height": 55
        }
      },
      "source": [
        "from google.colab import drive\n",
        "drive.mount('/content/drive')"
      ],
      "execution_count": 1,
      "outputs": [
        {
          "output_type": "stream",
          "text": [
            "Drive already mounted at /content/drive; to attempt to forcibly remount, call drive.mount(\"/content/drive\", force_remount=True).\n"
          ],
          "name": "stdout"
        }
      ]
    },
    {
      "cell_type": "code",
      "metadata": {
        "id": "mA7BVP-QgI0u",
        "colab_type": "code",
        "outputId": "a45b55b6-a15b-4ed8-da85-efe00a890f75",
        "colab": {
          "base_uri": "https://localhost:8080/",
          "height": 35
        }
      },
      "source": [
        "import os\n",
        "os.chdir(\"/content/drive/My Drive/DLDatasets\")\n",
        "!ls"
      ],
      "execution_count": 2,
      "outputs": [
        {
          "output_type": "stream",
          "text": [
            "data  insightface\n"
          ],
          "name": "stdout"
        }
      ]
    },
    {
      "cell_type": "code",
      "metadata": {
        "id": "ut5f-GfhgmNc",
        "colab_type": "code",
        "outputId": "89bf9e20-e80e-41be-d780-8ce24da17aca",
        "colab": {
          "base_uri": "https://localhost:8080/",
          "height": 35
        }
      },
      "source": [
        "!git clone https://github.com/foamliu/InsightFace-v2.git"
      ],
      "execution_count": 43,
      "outputs": [
        {
          "output_type": "stream",
          "text": [
            "fatal: destination path 'InsightFace-v2' already exists and is not an empty directory.\n"
          ],
          "name": "stdout"
        }
      ]
    },
    {
      "cell_type": "code",
      "metadata": {
        "id": "L4tuGa1UgtcK",
        "colab_type": "code",
        "outputId": "e136a7ee-bd60-456f-c708-28ca7cfced1a",
        "colab": {
          "base_uri": "https://localhost:8080/",
          "height": 1000
        }
      },
      "source": [
        "!pip install matplotlib\n",
        "!pip install scipy\n",
        "!pip install tqdm\n",
        "!pip install opencv-python\n",
        "!pip install pillow\n",
        "!pip install torch\n",
        "!pip install torchvision\n",
        "!pip install numpy\n",
        "!pip install scikit-image\n",
        "!pip install torchsummary\n",
        "!pip install imgaug"
      ],
      "execution_count": 4,
      "outputs": [
        {
          "output_type": "stream",
          "text": [
            "Requirement already satisfied: matplotlib in /usr/local/lib/python3.6/dist-packages (3.2.1)\n",
            "Requirement already satisfied: kiwisolver>=1.0.1 in /usr/local/lib/python3.6/dist-packages (from matplotlib) (1.2.0)\n",
            "Requirement already satisfied: cycler>=0.10 in /usr/local/lib/python3.6/dist-packages (from matplotlib) (0.10.0)\n",
            "Requirement already satisfied: numpy>=1.11 in /usr/local/lib/python3.6/dist-packages (from matplotlib) (1.18.4)\n",
            "Requirement already satisfied: pyparsing!=2.0.4,!=2.1.2,!=2.1.6,>=2.0.1 in /usr/local/lib/python3.6/dist-packages (from matplotlib) (2.4.7)\n",
            "Requirement already satisfied: python-dateutil>=2.1 in /usr/local/lib/python3.6/dist-packages (from matplotlib) (2.8.1)\n",
            "Requirement already satisfied: six in /usr/local/lib/python3.6/dist-packages (from cycler>=0.10->matplotlib) (1.12.0)\n",
            "Requirement already satisfied: scipy in /usr/local/lib/python3.6/dist-packages (1.4.1)\n",
            "Requirement already satisfied: numpy>=1.13.3 in /usr/local/lib/python3.6/dist-packages (from scipy) (1.18.4)\n",
            "Requirement already satisfied: tqdm in /usr/local/lib/python3.6/dist-packages (4.41.1)\n",
            "Requirement already satisfied: opencv-python in /usr/local/lib/python3.6/dist-packages (4.1.2.30)\n",
            "Requirement already satisfied: numpy>=1.11.3 in /usr/local/lib/python3.6/dist-packages (from opencv-python) (1.18.4)\n",
            "Requirement already satisfied: pillow in /usr/local/lib/python3.6/dist-packages (7.0.0)\n",
            "Requirement already satisfied: torch in /usr/local/lib/python3.6/dist-packages (1.5.0+cu101)\n",
            "Requirement already satisfied: future in /usr/local/lib/python3.6/dist-packages (from torch) (0.16.0)\n",
            "Requirement already satisfied: numpy in /usr/local/lib/python3.6/dist-packages (from torch) (1.18.4)\n",
            "Requirement already satisfied: torchvision in /usr/local/lib/python3.6/dist-packages (0.6.0+cu101)\n",
            "Requirement already satisfied: pillow>=4.1.1 in /usr/local/lib/python3.6/dist-packages (from torchvision) (7.0.0)\n",
            "Requirement already satisfied: numpy in /usr/local/lib/python3.6/dist-packages (from torchvision) (1.18.4)\n",
            "Requirement already satisfied: torch==1.5.0 in /usr/local/lib/python3.6/dist-packages (from torchvision) (1.5.0+cu101)\n",
            "Requirement already satisfied: future in /usr/local/lib/python3.6/dist-packages (from torch==1.5.0->torchvision) (0.16.0)\n",
            "Requirement already satisfied: numpy in /usr/local/lib/python3.6/dist-packages (1.18.4)\n",
            "Requirement already satisfied: scikit-image in /usr/local/lib/python3.6/dist-packages (0.16.2)\n",
            "Requirement already satisfied: pillow>=4.3.0 in /usr/local/lib/python3.6/dist-packages (from scikit-image) (7.0.0)\n",
            "Requirement already satisfied: imageio>=2.3.0 in /usr/local/lib/python3.6/dist-packages (from scikit-image) (2.4.1)\n",
            "Requirement already satisfied: networkx>=2.0 in /usr/local/lib/python3.6/dist-packages (from scikit-image) (2.4)\n",
            "Requirement already satisfied: matplotlib!=3.0.0,>=2.0.0 in /usr/local/lib/python3.6/dist-packages (from scikit-image) (3.2.1)\n",
            "Requirement already satisfied: scipy>=0.19.0 in /usr/local/lib/python3.6/dist-packages (from scikit-image) (1.4.1)\n",
            "Requirement already satisfied: PyWavelets>=0.4.0 in /usr/local/lib/python3.6/dist-packages (from scikit-image) (1.1.1)\n",
            "Requirement already satisfied: numpy in /usr/local/lib/python3.6/dist-packages (from imageio>=2.3.0->scikit-image) (1.18.4)\n",
            "Requirement already satisfied: decorator>=4.3.0 in /usr/local/lib/python3.6/dist-packages (from networkx>=2.0->scikit-image) (4.4.2)\n",
            "Requirement already satisfied: kiwisolver>=1.0.1 in /usr/local/lib/python3.6/dist-packages (from matplotlib!=3.0.0,>=2.0.0->scikit-image) (1.2.0)\n",
            "Requirement already satisfied: cycler>=0.10 in /usr/local/lib/python3.6/dist-packages (from matplotlib!=3.0.0,>=2.0.0->scikit-image) (0.10.0)\n",
            "Requirement already satisfied: pyparsing!=2.0.4,!=2.1.2,!=2.1.6,>=2.0.1 in /usr/local/lib/python3.6/dist-packages (from matplotlib!=3.0.0,>=2.0.0->scikit-image) (2.4.7)\n",
            "Requirement already satisfied: python-dateutil>=2.1 in /usr/local/lib/python3.6/dist-packages (from matplotlib!=3.0.0,>=2.0.0->scikit-image) (2.8.1)\n",
            "Requirement already satisfied: six in /usr/local/lib/python3.6/dist-packages (from cycler>=0.10->matplotlib!=3.0.0,>=2.0.0->scikit-image) (1.12.0)\n",
            "Requirement already satisfied: torchsummary in /usr/local/lib/python3.6/dist-packages (1.5.1)\n",
            "Requirement already satisfied: imgaug in /usr/local/lib/python3.6/dist-packages (0.2.9)\n",
            "Requirement already satisfied: imageio in /usr/local/lib/python3.6/dist-packages (from imgaug) (2.4.1)\n",
            "Requirement already satisfied: opencv-python in /usr/local/lib/python3.6/dist-packages (from imgaug) (4.1.2.30)\n",
            "Requirement already satisfied: matplotlib in /usr/local/lib/python3.6/dist-packages (from imgaug) (3.2.1)\n",
            "Requirement already satisfied: six in /usr/local/lib/python3.6/dist-packages (from imgaug) (1.12.0)\n",
            "Requirement already satisfied: numpy>=1.15.0 in /usr/local/lib/python3.6/dist-packages (from imgaug) (1.18.4)\n",
            "Requirement already satisfied: scipy in /usr/local/lib/python3.6/dist-packages (from imgaug) (1.4.1)\n",
            "Requirement already satisfied: Pillow in /usr/local/lib/python3.6/dist-packages (from imgaug) (7.0.0)\n",
            "Requirement already satisfied: scikit-image>=0.11.0 in /usr/local/lib/python3.6/dist-packages (from imgaug) (0.16.2)\n",
            "Requirement already satisfied: Shapely in /usr/local/lib/python3.6/dist-packages (from imgaug) (1.7.0)\n",
            "Requirement already satisfied: pyparsing!=2.0.4,!=2.1.2,!=2.1.6,>=2.0.1 in /usr/local/lib/python3.6/dist-packages (from matplotlib->imgaug) (2.4.7)\n",
            "Requirement already satisfied: kiwisolver>=1.0.1 in /usr/local/lib/python3.6/dist-packages (from matplotlib->imgaug) (1.2.0)\n",
            "Requirement already satisfied: python-dateutil>=2.1 in /usr/local/lib/python3.6/dist-packages (from matplotlib->imgaug) (2.8.1)\n",
            "Requirement already satisfied: cycler>=0.10 in /usr/local/lib/python3.6/dist-packages (from matplotlib->imgaug) (0.10.0)\n",
            "Requirement already satisfied: networkx>=2.0 in /usr/local/lib/python3.6/dist-packages (from scikit-image>=0.11.0->imgaug) (2.4)\n",
            "Requirement already satisfied: PyWavelets>=0.4.0 in /usr/local/lib/python3.6/dist-packages (from scikit-image>=0.11.0->imgaug) (1.1.1)\n",
            "Requirement already satisfied: decorator>=4.3.0 in /usr/local/lib/python3.6/dist-packages (from networkx>=2.0->scikit-image>=0.11.0->imgaug) (4.4.2)\n"
          ],
          "name": "stdout"
        }
      ]
    },
    {
      "cell_type": "code",
      "metadata": {
        "id": "fX0R5gDJrL9b",
        "colab_type": "code",
        "outputId": "6fbdf70c-45ba-432d-e5e6-54e2b6bb08d5",
        "colab": {
          "base_uri": "https://localhost:8080/",
          "height": 437
        }
      },
      "source": [
        "!pip install face-alignment"
      ],
      "execution_count": 5,
      "outputs": [
        {
          "output_type": "stream",
          "text": [
            "Collecting face-alignment\n",
            "  Downloading https://files.pythonhosted.org/packages/20/86/26baa3888c254c9ce284702a1041cf9a533ad91c873b06f74d3cfa23aff7/face_alignment-1.0.0-py2.py3-none-any.whl\n",
            "Requirement already satisfied: opencv-python in /usr/local/lib/python3.6/dist-packages (from face-alignment) (4.1.2.30)\n",
            "Requirement already satisfied: scikit-image in /usr/local/lib/python3.6/dist-packages (from face-alignment) (0.16.2)\n",
            "Requirement already satisfied: torch in /usr/local/lib/python3.6/dist-packages (from face-alignment) (1.5.0+cu101)\n",
            "Requirement already satisfied: numpy in /usr/local/lib/python3.6/dist-packages (from face-alignment) (1.18.4)\n",
            "Requirement already satisfied: scipy>=0.17 in /usr/local/lib/python3.6/dist-packages (from face-alignment) (1.4.1)\n",
            "Requirement already satisfied: tqdm in /usr/local/lib/python3.6/dist-packages (from face-alignment) (4.41.1)\n",
            "Requirement already satisfied: imageio>=2.3.0 in /usr/local/lib/python3.6/dist-packages (from scikit-image->face-alignment) (2.4.1)\n",
            "Requirement already satisfied: PyWavelets>=0.4.0 in /usr/local/lib/python3.6/dist-packages (from scikit-image->face-alignment) (1.1.1)\n",
            "Requirement already satisfied: networkx>=2.0 in /usr/local/lib/python3.6/dist-packages (from scikit-image->face-alignment) (2.4)\n",
            "Requirement already satisfied: pillow>=4.3.0 in /usr/local/lib/python3.6/dist-packages (from scikit-image->face-alignment) (7.0.0)\n",
            "Requirement already satisfied: matplotlib!=3.0.0,>=2.0.0 in /usr/local/lib/python3.6/dist-packages (from scikit-image->face-alignment) (3.2.1)\n",
            "Requirement already satisfied: future in /usr/local/lib/python3.6/dist-packages (from torch->face-alignment) (0.16.0)\n",
            "Requirement already satisfied: decorator>=4.3.0 in /usr/local/lib/python3.6/dist-packages (from networkx>=2.0->scikit-image->face-alignment) (4.4.2)\n",
            "Requirement already satisfied: pyparsing!=2.0.4,!=2.1.2,!=2.1.6,>=2.0.1 in /usr/local/lib/python3.6/dist-packages (from matplotlib!=3.0.0,>=2.0.0->scikit-image->face-alignment) (2.4.7)\n",
            "Requirement already satisfied: python-dateutil>=2.1 in /usr/local/lib/python3.6/dist-packages (from matplotlib!=3.0.0,>=2.0.0->scikit-image->face-alignment) (2.8.1)\n",
            "Requirement already satisfied: cycler>=0.10 in /usr/local/lib/python3.6/dist-packages (from matplotlib!=3.0.0,>=2.0.0->scikit-image->face-alignment) (0.10.0)\n",
            "Requirement already satisfied: kiwisolver>=1.0.1 in /usr/local/lib/python3.6/dist-packages (from matplotlib!=3.0.0,>=2.0.0->scikit-image->face-alignment) (1.2.0)\n",
            "Requirement already satisfied: six>=1.5 in /usr/local/lib/python3.6/dist-packages (from python-dateutil>=2.1->matplotlib!=3.0.0,>=2.0.0->scikit-image->face-alignment) (1.12.0)\n",
            "Installing collected packages: face-alignment\n",
            "Successfully installed face-alignment-1.0.0\n"
          ],
          "name": "stdout"
        }
      ]
    },
    {
      "cell_type": "code",
      "metadata": {
        "id": "oe5xd20ujTEV",
        "colab_type": "code",
        "colab": {}
      },
      "source": [
        "import pandas as pd\n"
      ],
      "execution_count": 0,
      "outputs": []
    },
    {
      "cell_type": "code",
      "metadata": {
        "id": "SiKseXRBKB_0",
        "colab_type": "code",
        "colab": {}
      },
      "source": [
        "!pip install -q torch==1.5.0 torchvision"
      ],
      "execution_count": 0,
      "outputs": []
    },
    {
      "cell_type": "code",
      "metadata": {
        "id": "O49TcdykLCCl",
        "colab_type": "code",
        "colab": {
          "base_uri": "https://localhost:8080/",
          "height": 35
        },
        "outputId": "7b8a8a95-33d0-439f-bd67-d5e46bc0c1ab"
      },
      "source": [
        "import torch\n",
        "print(torch.__version__)"
      ],
      "execution_count": 8,
      "outputs": [
        {
          "output_type": "stream",
          "text": [
            "1.5.0+cu101\n"
          ],
          "name": "stdout"
        }
      ]
    },
    {
      "cell_type": "code",
      "metadata": {
        "id": "1zeahbJdpKmT",
        "colab_type": "code",
        "colab": {
          "base_uri": "https://localhost:8080/",
          "height": 126
        },
        "outputId": "2731e017-bc6d-4e25-cb43-d2903442ead9"
      },
      "source": [
        "!apt-get install python3.6"
      ],
      "execution_count": 9,
      "outputs": [
        {
          "output_type": "stream",
          "text": [
            "\rReading package lists... 0%\r\rReading package lists... 0%\r\rReading package lists... 0%\r\rReading package lists... 6%\r\rReading package lists... 6%\r\rReading package lists... 7%\r\rReading package lists... 7%\r\rReading package lists... 61%\r\rReading package lists... 63%\r\rReading package lists... 63%\r\rReading package lists... 64%\r\rReading package lists... 64%\r\rReading package lists... 71%\r\rReading package lists... 71%\r\rReading package lists... 72%\r\rReading package lists... 72%\r\rReading package lists... 81%\r\rReading package lists... 81%\r\rReading package lists... 81%\r\rReading package lists... 81%\r\rReading package lists... 81%\r\rReading package lists... 81%\r\rReading package lists... 81%\r\rReading package lists... 81%\r\rReading package lists... 87%\r\rReading package lists... 87%\r\rReading package lists... 87%\r\rReading package lists... 87%\r\rReading package lists... 93%\r\rReading package lists... 93%\r\rReading package lists... 93%\r\rReading package lists... 93%\r\rReading package lists... 93%\r\rReading package lists... 93%\r\rReading package lists... 94%\r\rReading package lists... 94%\r\rReading package lists... 95%\r\rReading package lists... 95%\r\rReading package lists... 98%\r\rReading package lists... 98%\r\rReading package lists... 98%\r\rReading package lists... 98%\r\rReading package lists... Done\r\n",
            "\rBuilding dependency tree... 0%\r\rBuilding dependency tree... 0%\r\rBuilding dependency tree... 50%\r\rBuilding dependency tree... 50%\r\rBuilding dependency tree       \r\n",
            "\rReading state information... 0%\r\rReading state information... 0%\r\rReading state information... Done\r\n",
            "python3.6 is already the newest version (3.6.9-1~18.04ubuntu1).\n",
            "python3.6 set to manually installed.\n",
            "0 upgraded, 0 newly installed, 0 to remove and 31 not upgraded.\n"
          ],
          "name": "stdout"
        }
      ]
    },
    {
      "cell_type": "code",
      "metadata": {
        "id": "dNx61o63pNM3",
        "colab_type": "code",
        "outputId": "f2350bf9-001d-4994-8102-c2eef05d1208",
        "colab": {
          "base_uri": "https://localhost:8080/",
          "height": 110
        }
      },
      "source": [
        "!pip install utils"
      ],
      "execution_count": 10,
      "outputs": [
        {
          "output_type": "stream",
          "text": [
            "Collecting utils\n",
            "  Downloading https://files.pythonhosted.org/packages/55/e6/c2d2b2703e7debc8b501caae0e6f7ead148fd0faa3c8131292a599930029/utils-1.0.1-py2.py3-none-any.whl\n",
            "Installing collected packages: utils\n",
            "Successfully installed utils-1.0.1\n"
          ],
          "name": "stdout"
        }
      ]
    },
    {
      "cell_type": "code",
      "metadata": {
        "id": "td1wGsTKk_qB",
        "colab_type": "code",
        "outputId": "4e181da1-ccf8-432f-eccb-31a0439bb135",
        "colab": {
          "base_uri": "https://localhost:8080/",
          "height": 110
        }
      },
      "source": [
        "!pip install config"
      ],
      "execution_count": 11,
      "outputs": [
        {
          "output_type": "stream",
          "text": [
            "Collecting config\n",
            "  Downloading https://files.pythonhosted.org/packages/67/af/a7c8be986afee4cf277045cfdb06605296ff3f1a1de415d62c18a7a33040/config-0.5.0.post0-py2.py3-none-any.whl\n",
            "Installing collected packages: config\n",
            "Successfully installed config-0.5.0.post0\n"
          ],
          "name": "stdout"
        }
      ]
    },
    {
      "cell_type": "code",
      "metadata": {
        "id": "x1JSB9NNnKNc",
        "colab_type": "code",
        "colab": {
          "base_uri": "https://localhost:8080/",
          "height": 292
        },
        "outputId": "9c4171b6-1b77-4cc3-af0c-5af74199742e"
      },
      "source": [
        "!pip install mtcnn"
      ],
      "execution_count": 12,
      "outputs": [
        {
          "output_type": "stream",
          "text": [
            "Collecting mtcnn\n",
            "\u001b[?25l  Downloading https://files.pythonhosted.org/packages/67/43/abee91792797c609c1bf30f1112117f7a87a713ebaa6ec5201d5555a73ef/mtcnn-0.1.0-py3-none-any.whl (2.3MB)\n",
            "\r\u001b[K     |▏                               | 10kB 13.3MB/s eta 0:00:01\r\u001b[K     |▎                               | 20kB 2.2MB/s eta 0:00:02\r\u001b[K     |▍                               | 30kB 2.8MB/s eta 0:00:01\r\u001b[K     |▋                               | 40kB 3.1MB/s eta 0:00:01\r\u001b[K     |▊                               | 51kB 2.5MB/s eta 0:00:01\r\u001b[K     |▉                               | 61kB 2.8MB/s eta 0:00:01\r\u001b[K     |█                               | 71kB 3.1MB/s eta 0:00:01\r\u001b[K     |█▏                              | 81kB 3.3MB/s eta 0:00:01\r\u001b[K     |█▎                              | 92kB 3.6MB/s eta 0:00:01\r\u001b[K     |█▌                              | 102kB 3.5MB/s eta 0:00:01\r\u001b[K     |█▋                              | 112kB 3.5MB/s eta 0:00:01\r\u001b[K     |█▊                              | 122kB 3.5MB/s eta 0:00:01\r\u001b[K     |█▉                              | 133kB 3.5MB/s eta 0:00:01\r\u001b[K     |██                              | 143kB 3.5MB/s eta 0:00:01\r\u001b[K     |██▏                             | 153kB 3.5MB/s eta 0:00:01\r\u001b[K     |██▎                             | 163kB 3.5MB/s eta 0:00:01\r\u001b[K     |██▌                             | 174kB 3.5MB/s eta 0:00:01\r\u001b[K     |██▋                             | 184kB 3.5MB/s eta 0:00:01\r\u001b[K     |██▊                             | 194kB 3.5MB/s eta 0:00:01\r\u001b[K     |███                             | 204kB 3.5MB/s eta 0:00:01\r\u001b[K     |███                             | 215kB 3.5MB/s eta 0:00:01\r\u001b[K     |███▏                            | 225kB 3.5MB/s eta 0:00:01\r\u001b[K     |███▍                            | 235kB 3.5MB/s eta 0:00:01\r\u001b[K     |███▌                            | 245kB 3.5MB/s eta 0:00:01\r\u001b[K     |███▋                            | 256kB 3.5MB/s eta 0:00:01\r\u001b[K     |███▊                            | 266kB 3.5MB/s eta 0:00:01\r\u001b[K     |████                            | 276kB 3.5MB/s eta 0:00:01\r\u001b[K     |████                            | 286kB 3.5MB/s eta 0:00:01\r\u001b[K     |████▏                           | 296kB 3.5MB/s eta 0:00:01\r\u001b[K     |████▍                           | 307kB 3.5MB/s eta 0:00:01\r\u001b[K     |████▌                           | 317kB 3.5MB/s eta 0:00:01\r\u001b[K     |████▋                           | 327kB 3.5MB/s eta 0:00:01\r\u001b[K     |████▉                           | 337kB 3.5MB/s eta 0:00:01\r\u001b[K     |█████                           | 348kB 3.5MB/s eta 0:00:01\r\u001b[K     |█████                           | 358kB 3.5MB/s eta 0:00:01\r\u001b[K     |█████▏                          | 368kB 3.5MB/s eta 0:00:01\r\u001b[K     |█████▍                          | 378kB 3.5MB/s eta 0:00:01\r\u001b[K     |█████▌                          | 389kB 3.5MB/s eta 0:00:01\r\u001b[K     |█████▋                          | 399kB 3.5MB/s eta 0:00:01\r\u001b[K     |█████▉                          | 409kB 3.5MB/s eta 0:00:01\r\u001b[K     |██████                          | 419kB 3.5MB/s eta 0:00:01\r\u001b[K     |██████                          | 430kB 3.5MB/s eta 0:00:01\r\u001b[K     |██████▎                         | 440kB 3.5MB/s eta 0:00:01\r\u001b[K     |██████▍                         | 450kB 3.5MB/s eta 0:00:01\r\u001b[K     |██████▌                         | 460kB 3.5MB/s eta 0:00:01\r\u001b[K     |██████▊                         | 471kB 3.5MB/s eta 0:00:01\r\u001b[K     |██████▉                         | 481kB 3.5MB/s eta 0:00:01\r\u001b[K     |███████                         | 491kB 3.5MB/s eta 0:00:01\r\u001b[K     |███████                         | 501kB 3.5MB/s eta 0:00:01\r\u001b[K     |███████▎                        | 512kB 3.5MB/s eta 0:00:01\r\u001b[K     |███████▍                        | 522kB 3.5MB/s eta 0:00:01\r\u001b[K     |███████▌                        | 532kB 3.5MB/s eta 0:00:01\r\u001b[K     |███████▊                        | 542kB 3.5MB/s eta 0:00:01\r\u001b[K     |███████▉                        | 552kB 3.5MB/s eta 0:00:01\r\u001b[K     |████████                        | 563kB 3.5MB/s eta 0:00:01\r\u001b[K     |████████▏                       | 573kB 3.5MB/s eta 0:00:01\r\u001b[K     |████████▎                       | 583kB 3.5MB/s eta 0:00:01\r\u001b[K     |████████▍                       | 593kB 3.5MB/s eta 0:00:01\r\u001b[K     |████████▌                       | 604kB 3.5MB/s eta 0:00:01\r\u001b[K     |████████▊                       | 614kB 3.5MB/s eta 0:00:01\r\u001b[K     |████████▉                       | 624kB 3.5MB/s eta 0:00:01\r\u001b[K     |█████████                       | 634kB 3.5MB/s eta 0:00:01\r\u001b[K     |█████████▏                      | 645kB 3.5MB/s eta 0:00:01\r\u001b[K     |█████████▎                      | 655kB 3.5MB/s eta 0:00:01\r\u001b[K     |█████████▍                      | 665kB 3.5MB/s eta 0:00:01\r\u001b[K     |█████████▋                      | 675kB 3.5MB/s eta 0:00:01\r\u001b[K     |█████████▊                      | 686kB 3.5MB/s eta 0:00:01\r\u001b[K     |█████████▉                      | 696kB 3.5MB/s eta 0:00:01\r\u001b[K     |██████████                      | 706kB 3.5MB/s eta 0:00:01\r\u001b[K     |██████████▏                     | 716kB 3.5MB/s eta 0:00:01\r\u001b[K     |██████████▎                     | 727kB 3.5MB/s eta 0:00:01\r\u001b[K     |██████████▍                     | 737kB 3.5MB/s eta 0:00:01\r\u001b[K     |██████████▋                     | 747kB 3.5MB/s eta 0:00:01\r\u001b[K     |██████████▊                     | 757kB 3.5MB/s eta 0:00:01\r\u001b[K     |██████████▉                     | 768kB 3.5MB/s eta 0:00:01\r\u001b[K     |███████████                     | 778kB 3.5MB/s eta 0:00:01\r\u001b[K     |███████████▏                    | 788kB 3.5MB/s eta 0:00:01\r\u001b[K     |███████████▎                    | 798kB 3.5MB/s eta 0:00:01\r\u001b[K     |███████████▌                    | 808kB 3.5MB/s eta 0:00:01\r\u001b[K     |███████████▋                    | 819kB 3.5MB/s eta 0:00:01\r\u001b[K     |███████████▊                    | 829kB 3.5MB/s eta 0:00:01\r\u001b[K     |███████████▉                    | 839kB 3.5MB/s eta 0:00:01\r\u001b[K     |████████████                    | 849kB 3.5MB/s eta 0:00:01\r\u001b[K     |████████████▏                   | 860kB 3.5MB/s eta 0:00:01\r\u001b[K     |████████████▎                   | 870kB 3.5MB/s eta 0:00:01\r\u001b[K     |████████████▌                   | 880kB 3.5MB/s eta 0:00:01\r\u001b[K     |████████████▋                   | 890kB 3.5MB/s eta 0:00:01\r\u001b[K     |████████████▊                   | 901kB 3.5MB/s eta 0:00:01\r\u001b[K     |█████████████                   | 911kB 3.5MB/s eta 0:00:01\r\u001b[K     |█████████████                   | 921kB 3.5MB/s eta 0:00:01\r\u001b[K     |█████████████▏                  | 931kB 3.5MB/s eta 0:00:01\r\u001b[K     |█████████████▍                  | 942kB 3.5MB/s eta 0:00:01\r\u001b[K     |█████████████▌                  | 952kB 3.5MB/s eta 0:00:01\r\u001b[K     |█████████████▋                  | 962kB 3.5MB/s eta 0:00:01\r\u001b[K     |█████████████▊                  | 972kB 3.5MB/s eta 0:00:01\r\u001b[K     |██████████████                  | 983kB 3.5MB/s eta 0:00:01\r\u001b[K     |██████████████                  | 993kB 3.5MB/s eta 0:00:01\r\u001b[K     |██████████████▏                 | 1.0MB 3.5MB/s eta 0:00:01\r\u001b[K     |██████████████▍                 | 1.0MB 3.5MB/s eta 0:00:01\r\u001b[K     |██████████████▌                 | 1.0MB 3.5MB/s eta 0:00:01\r\u001b[K     |██████████████▋                 | 1.0MB 3.5MB/s eta 0:00:01\r\u001b[K     |██████████████▉                 | 1.0MB 3.5MB/s eta 0:00:01\r\u001b[K     |███████████████                 | 1.1MB 3.5MB/s eta 0:00:01\r\u001b[K     |███████████████                 | 1.1MB 3.5MB/s eta 0:00:01\r\u001b[K     |███████████████▏                | 1.1MB 3.5MB/s eta 0:00:01\r\u001b[K     |███████████████▍                | 1.1MB 3.5MB/s eta 0:00:01\r\u001b[K     |███████████████▌                | 1.1MB 3.5MB/s eta 0:00:01\r\u001b[K     |███████████████▋                | 1.1MB 3.5MB/s eta 0:00:01\r\u001b[K     |███████████████▉                | 1.1MB 3.5MB/s eta 0:00:01\r\u001b[K     |████████████████                | 1.1MB 3.5MB/s eta 0:00:01\r\u001b[K     |████████████████                | 1.1MB 3.5MB/s eta 0:00:01\r\u001b[K     |████████████████▎               | 1.1MB 3.5MB/s eta 0:00:01\r\u001b[K     |████████████████▍               | 1.2MB 3.5MB/s eta 0:00:01\r\u001b[K     |████████████████▌               | 1.2MB 3.5MB/s eta 0:00:01\r\u001b[K     |████████████████▊               | 1.2MB 3.5MB/s eta 0:00:01\r\u001b[K     |████████████████▉               | 1.2MB 3.5MB/s eta 0:00:01\r\u001b[K     |█████████████████               | 1.2MB 3.5MB/s eta 0:00:01\r\u001b[K     |█████████████████               | 1.2MB 3.5MB/s eta 0:00:01\r\u001b[K     |█████████████████▎              | 1.2MB 3.5MB/s eta 0:00:01\r\u001b[K     |█████████████████▍              | 1.2MB 3.5MB/s eta 0:00:01\r\u001b[K     |█████████████████▌              | 1.2MB 3.5MB/s eta 0:00:01\r\u001b[K     |█████████████████▊              | 1.2MB 3.5MB/s eta 0:00:01\r\u001b[K     |█████████████████▉              | 1.3MB 3.5MB/s eta 0:00:01\r\u001b[K     |██████████████████              | 1.3MB 3.5MB/s eta 0:00:01\r\u001b[K     |██████████████████▏             | 1.3MB 3.5MB/s eta 0:00:01\r\u001b[K     |██████████████████▎             | 1.3MB 3.5MB/s eta 0:00:01\r\u001b[K     |██████████████████▍             | 1.3MB 3.5MB/s eta 0:00:01\r\u001b[K     |██████████████████▋             | 1.3MB 3.5MB/s eta 0:00:01\r\u001b[K     |██████████████████▊             | 1.3MB 3.5MB/s eta 0:00:01\r\u001b[K     |██████████████████▉             | 1.3MB 3.5MB/s eta 0:00:01\r\u001b[K     |███████████████████             | 1.3MB 3.5MB/s eta 0:00:01\r\u001b[K     |███████████████████▏            | 1.4MB 3.5MB/s eta 0:00:01\r\u001b[K     |███████████████████▎            | 1.4MB 3.5MB/s eta 0:00:01\r\u001b[K     |███████████████████▍            | 1.4MB 3.5MB/s eta 0:00:01\r\u001b[K     |███████████████████▋            | 1.4MB 3.5MB/s eta 0:00:01\r\u001b[K     |███████████████████▊            | 1.4MB 3.5MB/s eta 0:00:01\r\u001b[K     |███████████████████▉            | 1.4MB 3.5MB/s eta 0:00:01\r\u001b[K     |████████████████████            | 1.4MB 3.5MB/s eta 0:00:01\r\u001b[K     |████████████████████▏           | 1.4MB 3.5MB/s eta 0:00:01\r\u001b[K     |████████████████████▎           | 1.4MB 3.5MB/s eta 0:00:01\r\u001b[K     |████████████████████▍           | 1.4MB 3.5MB/s eta 0:00:01\r\u001b[K     |████████████████████▋           | 1.5MB 3.5MB/s eta 0:00:01\r\u001b[K     |████████████████████▊           | 1.5MB 3.5MB/s eta 0:00:01\r\u001b[K     |████████████████████▉           | 1.5MB 3.5MB/s eta 0:00:01\r\u001b[K     |█████████████████████           | 1.5MB 3.5MB/s eta 0:00:01\r\u001b[K     |█████████████████████▏          | 1.5MB 3.5MB/s eta 0:00:01\r\u001b[K     |█████████████████████▎          | 1.5MB 3.5MB/s eta 0:00:01\r\u001b[K     |█████████████████████▌          | 1.5MB 3.5MB/s eta 0:00:01\r\u001b[K     |█████████████████████▋          | 1.5MB 3.5MB/s eta 0:00:01\r\u001b[K     |█████████████████████▊          | 1.5MB 3.5MB/s eta 0:00:01\r\u001b[K     |██████████████████████          | 1.5MB 3.5MB/s eta 0:00:01\r\u001b[K     |██████████████████████          | 1.6MB 3.5MB/s eta 0:00:01\r\u001b[K     |██████████████████████▏         | 1.6MB 3.5MB/s eta 0:00:01\r\u001b[K     |██████████████████████▎         | 1.6MB 3.5MB/s eta 0:00:01\r\u001b[K     |██████████████████████▌         | 1.6MB 3.5MB/s eta 0:00:01\r\u001b[K     |██████████████████████▋         | 1.6MB 3.5MB/s eta 0:00:01\r\u001b[K     |██████████████████████▊         | 1.6MB 3.5MB/s eta 0:00:01\r\u001b[K     |███████████████████████         | 1.6MB 3.5MB/s eta 0:00:01\r\u001b[K     |███████████████████████         | 1.6MB 3.5MB/s eta 0:00:01\r\u001b[K     |███████████████████████▏        | 1.6MB 3.5MB/s eta 0:00:01\r\u001b[K     |███████████████████████▍        | 1.6MB 3.5MB/s eta 0:00:01\r\u001b[K     |███████████████████████▌        | 1.7MB 3.5MB/s eta 0:00:01\r\u001b[K     |███████████████████████▋        | 1.7MB 3.5MB/s eta 0:00:01\r\u001b[K     |███████████████████████▊        | 1.7MB 3.5MB/s eta 0:00:01\r\u001b[K     |████████████████████████        | 1.7MB 3.5MB/s eta 0:00:01\r\u001b[K     |████████████████████████        | 1.7MB 3.5MB/s eta 0:00:01\r\u001b[K     |████████████████████████▏       | 1.7MB 3.5MB/s eta 0:00:01\r\u001b[K     |████████████████████████▍       | 1.7MB 3.5MB/s eta 0:00:01\r\u001b[K     |████████████████████████▌       | 1.7MB 3.5MB/s eta 0:00:01\r\u001b[K     |████████████████████████▋       | 1.7MB 3.5MB/s eta 0:00:01\r\u001b[K     |████████████████████████▉       | 1.8MB 3.5MB/s eta 0:00:01\r\u001b[K     |█████████████████████████       | 1.8MB 3.5MB/s eta 0:00:01\r\u001b[K     |█████████████████████████       | 1.8MB 3.5MB/s eta 0:00:01\r\u001b[K     |█████████████████████████▎      | 1.8MB 3.5MB/s eta 0:00:01\r\u001b[K     |█████████████████████████▍      | 1.8MB 3.5MB/s eta 0:00:01\r\u001b[K     |█████████████████████████▌      | 1.8MB 3.5MB/s eta 0:00:01\r\u001b[K     |█████████████████████████▋      | 1.8MB 3.5MB/s eta 0:00:01\r\u001b[K     |█████████████████████████▉      | 1.8MB 3.5MB/s eta 0:00:01\r\u001b[K     |██████████████████████████      | 1.8MB 3.5MB/s eta 0:00:01\r\u001b[K     |██████████████████████████      | 1.8MB 3.5MB/s eta 0:00:01\r\u001b[K     |██████████████████████████▎     | 1.9MB 3.5MB/s eta 0:00:01\r\u001b[K     |██████████████████████████▍     | 1.9MB 3.5MB/s eta 0:00:01\r\u001b[K     |██████████████████████████▌     | 1.9MB 3.5MB/s eta 0:00:01\r\u001b[K     |██████████████████████████▊     | 1.9MB 3.5MB/s eta 0:00:01\r\u001b[K     |██████████████████████████▉     | 1.9MB 3.5MB/s eta 0:00:01\r\u001b[K     |███████████████████████████     | 1.9MB 3.5MB/s eta 0:00:01\r\u001b[K     |███████████████████████████     | 1.9MB 3.5MB/s eta 0:00:01\r\u001b[K     |███████████████████████████▎    | 1.9MB 3.5MB/s eta 0:00:01\r\u001b[K     |███████████████████████████▍    | 1.9MB 3.5MB/s eta 0:00:01\r\u001b[K     |███████████████████████████▌    | 1.9MB 3.5MB/s eta 0:00:01\r\u001b[K     |███████████████████████████▊    | 2.0MB 3.5MB/s eta 0:00:01\r\u001b[K     |███████████████████████████▉    | 2.0MB 3.5MB/s eta 0:00:01\r\u001b[K     |████████████████████████████    | 2.0MB 3.5MB/s eta 0:00:01\r\u001b[K     |████████████████████████████▏   | 2.0MB 3.5MB/s eta 0:00:01\r\u001b[K     |████████████████████████████▎   | 2.0MB 3.5MB/s eta 0:00:01\r\u001b[K     |████████████████████████████▍   | 2.0MB 3.5MB/s eta 0:00:01\r\u001b[K     |████████████████████████████▋   | 2.0MB 3.5MB/s eta 0:00:01\r\u001b[K     |████████████████████████████▊   | 2.0MB 3.5MB/s eta 0:00:01\r\u001b[K     |████████████████████████████▉   | 2.0MB 3.5MB/s eta 0:00:01\r\u001b[K     |█████████████████████████████   | 2.0MB 3.5MB/s eta 0:00:01\r\u001b[K     |█████████████████████████████▏  | 2.1MB 3.5MB/s eta 0:00:01\r\u001b[K     |█████████████████████████████▎  | 2.1MB 3.5MB/s eta 0:00:01\r\u001b[K     |█████████████████████████████▍  | 2.1MB 3.5MB/s eta 0:00:01\r\u001b[K     |█████████████████████████████▋  | 2.1MB 3.5MB/s eta 0:00:01\r\u001b[K     |█████████████████████████████▊  | 2.1MB 3.5MB/s eta 0:00:01\r\u001b[K     |█████████████████████████████▉  | 2.1MB 3.5MB/s eta 0:00:01\r\u001b[K     |██████████████████████████████  | 2.1MB 3.5MB/s eta 0:00:01\r\u001b[K     |██████████████████████████████▏ | 2.1MB 3.5MB/s eta 0:00:01\r\u001b[K     |██████████████████████████████▎ | 2.1MB 3.5MB/s eta 0:00:01\r\u001b[K     |██████████████████████████████▍ | 2.2MB 3.5MB/s eta 0:00:01\r\u001b[K     |██████████████████████████████▋ | 2.2MB 3.5MB/s eta 0:00:01\r\u001b[K     |██████████████████████████████▊ | 2.2MB 3.5MB/s eta 0:00:01\r\u001b[K     |██████████████████████████████▉ | 2.2MB 3.5MB/s eta 0:00:01\r\u001b[K     |███████████████████████████████ | 2.2MB 3.5MB/s eta 0:00:01\r\u001b[K     |███████████████████████████████▏| 2.2MB 3.5MB/s eta 0:00:01\r\u001b[K     |███████████████████████████████▎| 2.2MB 3.5MB/s eta 0:00:01\r\u001b[K     |███████████████████████████████▌| 2.2MB 3.5MB/s eta 0:00:01\r\u001b[K     |███████████████████████████████▋| 2.2MB 3.5MB/s eta 0:00:01\r\u001b[K     |███████████████████████████████▊| 2.2MB 3.5MB/s eta 0:00:01\r\u001b[K     |████████████████████████████████| 2.3MB 3.5MB/s eta 0:00:01\r\u001b[K     |████████████████████████████████| 2.3MB 3.5MB/s \n",
            "\u001b[?25hRequirement already satisfied: opencv-python>=4.1.0 in /usr/local/lib/python3.6/dist-packages (from mtcnn) (4.1.2.30)\n",
            "Requirement already satisfied: keras>=2.0.0 in /usr/local/lib/python3.6/dist-packages (from mtcnn) (2.3.1)\n",
            "Requirement already satisfied: numpy>=1.11.3 in /usr/local/lib/python3.6/dist-packages (from opencv-python>=4.1.0->mtcnn) (1.18.4)\n",
            "Requirement already satisfied: pyyaml in /usr/local/lib/python3.6/dist-packages (from keras>=2.0.0->mtcnn) (3.13)\n",
            "Requirement already satisfied: keras-preprocessing>=1.0.5 in /usr/local/lib/python3.6/dist-packages (from keras>=2.0.0->mtcnn) (1.1.2)\n",
            "Requirement already satisfied: six>=1.9.0 in /usr/local/lib/python3.6/dist-packages (from keras>=2.0.0->mtcnn) (1.12.0)\n",
            "Requirement already satisfied: h5py in /usr/local/lib/python3.6/dist-packages (from keras>=2.0.0->mtcnn) (2.10.0)\n",
            "Requirement already satisfied: scipy>=0.14 in /usr/local/lib/python3.6/dist-packages (from keras>=2.0.0->mtcnn) (1.4.1)\n",
            "Requirement already satisfied: keras-applications>=1.0.6 in /usr/local/lib/python3.6/dist-packages (from keras>=2.0.0->mtcnn) (1.0.8)\n",
            "Installing collected packages: mtcnn\n",
            "Successfully installed mtcnn-0.1.0\n"
          ],
          "name": "stdout"
        }
      ]
    },
    {
      "cell_type": "code",
      "metadata": {
        "id": "pKxMFwPakxHE",
        "colab_type": "code",
        "outputId": "0b2aea44-62c2-4914-ff91-2becba7c47d1",
        "colab": {
          "base_uri": "https://localhost:8080/",
          "height": 328
        }
      },
      "source": [
        "!pip install mxnet"
      ],
      "execution_count": 13,
      "outputs": [
        {
          "output_type": "stream",
          "text": [
            "Collecting mxnet\n",
            "\u001b[?25l  Downloading https://files.pythonhosted.org/packages/81/f5/d79b5b40735086ff1100c680703e0f3efc830fa455e268e9e96f3c857e93/mxnet-1.6.0-py2.py3-none-any.whl (68.7MB)\n",
            "\u001b[K     |████████████████████████████████| 68.7MB 65kB/s \n",
            "\u001b[?25hRequirement already satisfied: requests<3,>=2.20.0 in /usr/local/lib/python3.6/dist-packages (from mxnet) (2.23.0)\n",
            "Requirement already satisfied: numpy<2.0.0,>1.16.0 in /usr/local/lib/python3.6/dist-packages (from mxnet) (1.18.4)\n",
            "Collecting graphviz<0.9.0,>=0.8.1\n",
            "  Downloading https://files.pythonhosted.org/packages/53/39/4ab213673844e0c004bed8a0781a0721a3f6bb23eb8854ee75c236428892/graphviz-0.8.4-py2.py3-none-any.whl\n",
            "Requirement already satisfied: idna<3,>=2.5 in /usr/local/lib/python3.6/dist-packages (from requests<3,>=2.20.0->mxnet) (2.9)\n",
            "Requirement already satisfied: certifi>=2017.4.17 in /usr/local/lib/python3.6/dist-packages (from requests<3,>=2.20.0->mxnet) (2020.4.5.1)\n",
            "Requirement already satisfied: urllib3!=1.25.0,!=1.25.1,<1.26,>=1.21.1 in /usr/local/lib/python3.6/dist-packages (from requests<3,>=2.20.0->mxnet) (1.24.3)\n",
            "Requirement already satisfied: chardet<4,>=3.0.2 in /usr/local/lib/python3.6/dist-packages (from requests<3,>=2.20.0->mxnet) (3.0.4)\n",
            "Installing collected packages: graphviz, mxnet\n",
            "  Found existing installation: graphviz 0.10.1\n",
            "    Uninstalling graphviz-0.10.1:\n",
            "      Successfully uninstalled graphviz-0.10.1\n",
            "Successfully installed graphviz-0.8.4 mxnet-1.6.0\n"
          ],
          "name": "stdout"
        }
      ]
    },
    {
      "cell_type": "code",
      "metadata": {
        "id": "X1C1BnhOPa4y",
        "colab_type": "code",
        "colab": {
          "base_uri": "https://localhost:8080/",
          "height": 35
        },
        "outputId": "ba477392-47e2-47c6-da79-31cff3f0ae10"
      },
      "source": [
        "#extract.py\n",
        "import os\n",
        "\n",
        "import zipfile\n",
        "\n",
        "\n",
        "def extract(filename):\n",
        "    print('Extracting {}...'.format(filename))\n",
        "    zip_ref = zipfile.ZipFile(filename, 'r')\n",
        "    zip_ref.extractall('data')\n",
        "    zip_ref.close()\n",
        "\n",
        "\n",
        "if __name__ == \"__main__\":\n",
        "    # if not os.path.isdir('data/faces_ms1m_112x112'):\n",
        "    #     extract('data/faces_ms1m_112x112.zip')\n",
        "    if not os.path.isdir('/content/msceleb.'):\n",
        "        extract('/content/msceleb.zip')"
      ],
      "execution_count": 14,
      "outputs": [
        {
          "output_type": "stream",
          "text": [
            "Extracting /content/msceleb.zip...\n"
          ],
          "name": "stdout"
        }
      ]
    },
    {
      "cell_type": "code",
      "metadata": {
        "id": "2H3eA--zPyqH",
        "colab_type": "code",
        "colab": {
          "base_uri": "https://localhost:8080/",
          "height": 389
        },
        "outputId": "1c5b14fd-ddeb-4cf2-a3d5-b20b1234bf39"
      },
      "source": [
        "#pre_process.py\n",
        "import os\n",
        "import pickle\n",
        "\n",
        "import cv2 as cv\n",
        "import mxnet as mx\n",
        "from mxnet import recordio\n",
        "from tqdm import tqdm\n",
        "\n",
        "from config import path_imgidx, path_imgrec, IMG_DIR, pickle_file\n",
        "from utils import ensure_folder\n",
        "\n",
        "if __name__ == \"__main__\":\n",
        "    ensure_folder(IMG_DIR)\n",
        "    imgrec = recordio.MXIndexedRecordIO(path_imgidx, path_imgrec, 'r')\n",
        "    print(len(imgrec))\n",
        "\n",
        "    samples = []\n",
        "    class_ids = set()\n",
        "\n",
        "    # %% 1 ~ 5179510\n",
        "    for i in tqdm(range(5179510)):\n",
        "        print(i)\n",
        "        try:\n",
        "            header, s = recordio.unpack(imgrec.read_idx(i + 1))\n",
        "            img = mx.image.imdecode(s).asnumpy()\n",
        "            print(img.shape)\n",
        "            img = cv.cvtColor(img, cv.COLOR_RGB2BGR)\n",
        "            print(header.label)\n",
        "            print(type(header.label))\n",
        "            label = int(header.label[0])\n",
        "            class_ids.add(label)\n",
        "            filename = '{}.jpg'.format(i)\n",
        "            samples.append({'img': filename, 'label': label})\n",
        "            filename = os.path.join(IMG_DIR, filename)\n",
        "            cv.imwrite(filename, img)\n",
        "        except KeyboardInterrupt:\n",
        "            raise\n",
        "        except Exception as err:\n",
        "            print(err)\n",
        "            print(i)\n",
        "            print(label)\n",
        "            # pass\n",
        "\n",
        "    with open(pickle_file, 'wb') as file:\n",
        "        pickle.dump(samples, file)\n",
        "\n",
        "    print('num_samples: ' + str(len(samples)))\n",
        "\n",
        "    class_ids = list(class_ids)\n",
        "    print(len(class_ids))\n",
        "    print(max(class_ids))"
      ],
      "execution_count": 64,
      "outputs": [
        {
          "output_type": "error",
          "ename": "ImportError",
          "evalue": "ignored",
          "traceback": [
            "\u001b[0;31m---------------------------------------------------------------------------\u001b[0m",
            "\u001b[0;31mImportError\u001b[0m                               Traceback (most recent call last)",
            "\u001b[0;32m<ipython-input-64-f3f45a25d1f6>\u001b[0m in \u001b[0;36m<module>\u001b[0;34m()\u001b[0m\n\u001b[1;32m      8\u001b[0m \u001b[0;32mfrom\u001b[0m \u001b[0mtqdm\u001b[0m \u001b[0;32mimport\u001b[0m \u001b[0mtqdm\u001b[0m\u001b[0;34m\u001b[0m\u001b[0;34m\u001b[0m\u001b[0m\n\u001b[1;32m      9\u001b[0m \u001b[0;34m\u001b[0m\u001b[0m\n\u001b[0;32m---> 10\u001b[0;31m \u001b[0;32mfrom\u001b[0m \u001b[0mconfig\u001b[0m \u001b[0;32mimport\u001b[0m \u001b[0mpath_imgidx\u001b[0m\u001b[0;34m,\u001b[0m \u001b[0mpath_imgrec\u001b[0m\u001b[0;34m,\u001b[0m \u001b[0mIMG_DIR\u001b[0m\u001b[0;34m,\u001b[0m \u001b[0mpickle_file\u001b[0m\u001b[0;34m\u001b[0m\u001b[0;34m\u001b[0m\u001b[0m\n\u001b[0m\u001b[1;32m     11\u001b[0m \u001b[0;32mfrom\u001b[0m \u001b[0mutils\u001b[0m \u001b[0;32mimport\u001b[0m \u001b[0mensure_folder\u001b[0m\u001b[0;34m\u001b[0m\u001b[0;34m\u001b[0m\u001b[0m\n\u001b[1;32m     12\u001b[0m \u001b[0;34m\u001b[0m\u001b[0m\n",
            "\u001b[0;31mImportError\u001b[0m: cannot import name 'path_imgidx'",
            "",
            "\u001b[0;31m---------------------------------------------------------------------------\u001b[0;32m\nNOTE: If your import is failing due to a missing package, you can\nmanually install dependencies using either !pip or !apt.\n\nTo view examples of installing some common dependencies, click the\n\"Open Examples\" button below.\n\u001b[0;31m---------------------------------------------------------------------------\u001b[0m\n"
          ]
        }
      ]
    },
    {
      "cell_type": "code",
      "metadata": {
        "id": "DaBxKBCe1ZyS",
        "colab_type": "code",
        "colab": {}
      },
      "source": [
        "!cp \"/content/config.py\" ."
      ],
      "execution_count": 0,
      "outputs": []
    },
    {
      "cell_type": "code",
      "metadata": {
        "id": "RTDxBwjWiRiQ",
        "colab_type": "code",
        "colab": {
          "base_uri": "https://localhost:8080/",
          "height": 383
        },
        "outputId": "41fa08a0-e14a-4d4e-c6b3-a9943aa23277"
      },
      "source": [
        "!pip install face-alignment\n"
      ],
      "execution_count": 18,
      "outputs": [
        {
          "output_type": "stream",
          "text": [
            "Requirement already satisfied: face-alignment in /usr/local/lib/python3.6/dist-packages (1.0.0)\n",
            "Requirement already satisfied: torch in /usr/local/lib/python3.6/dist-packages (from face-alignment) (1.5.0+cu101)\n",
            "Requirement already satisfied: scikit-image in /usr/local/lib/python3.6/dist-packages (from face-alignment) (0.16.2)\n",
            "Requirement already satisfied: numpy in /usr/local/lib/python3.6/dist-packages (from face-alignment) (1.18.4)\n",
            "Requirement already satisfied: tqdm in /usr/local/lib/python3.6/dist-packages (from face-alignment) (4.41.1)\n",
            "Requirement already satisfied: opencv-python in /usr/local/lib/python3.6/dist-packages (from face-alignment) (4.1.2.30)\n",
            "Requirement already satisfied: scipy>=0.17 in /usr/local/lib/python3.6/dist-packages (from face-alignment) (1.4.1)\n",
            "Requirement already satisfied: future in /usr/local/lib/python3.6/dist-packages (from torch->face-alignment) (0.16.0)\n",
            "Requirement already satisfied: matplotlib!=3.0.0,>=2.0.0 in /usr/local/lib/python3.6/dist-packages (from scikit-image->face-alignment) (3.2.1)\n",
            "Requirement already satisfied: pillow>=4.3.0 in /usr/local/lib/python3.6/dist-packages (from scikit-image->face-alignment) (7.0.0)\n",
            "Requirement already satisfied: PyWavelets>=0.4.0 in /usr/local/lib/python3.6/dist-packages (from scikit-image->face-alignment) (1.1.1)\n",
            "Requirement already satisfied: networkx>=2.0 in /usr/local/lib/python3.6/dist-packages (from scikit-image->face-alignment) (2.4)\n",
            "Requirement already satisfied: imageio>=2.3.0 in /usr/local/lib/python3.6/dist-packages (from scikit-image->face-alignment) (2.4.1)\n",
            "Requirement already satisfied: pyparsing!=2.0.4,!=2.1.2,!=2.1.6,>=2.0.1 in /usr/local/lib/python3.6/dist-packages (from matplotlib!=3.0.0,>=2.0.0->scikit-image->face-alignment) (2.4.7)\n",
            "Requirement already satisfied: cycler>=0.10 in /usr/local/lib/python3.6/dist-packages (from matplotlib!=3.0.0,>=2.0.0->scikit-image->face-alignment) (0.10.0)\n",
            "Requirement already satisfied: kiwisolver>=1.0.1 in /usr/local/lib/python3.6/dist-packages (from matplotlib!=3.0.0,>=2.0.0->scikit-image->face-alignment) (1.2.0)\n",
            "Requirement already satisfied: python-dateutil>=2.1 in /usr/local/lib/python3.6/dist-packages (from matplotlib!=3.0.0,>=2.0.0->scikit-image->face-alignment) (2.8.1)\n",
            "Requirement already satisfied: decorator>=4.3.0 in /usr/local/lib/python3.6/dist-packages (from networkx>=2.0->scikit-image->face-alignment) (4.4.2)\n",
            "Requirement already satisfied: six in /usr/local/lib/python3.6/dist-packages (from cycler>=0.10->matplotlib!=3.0.0,>=2.0.0->scikit-image->face-alignment) (1.12.0)\n"
          ],
          "name": "stdout"
        }
      ]
    },
    {
      "cell_type": "code",
      "metadata": {
        "id": "Lz7afZZQsKr5",
        "colab_type": "code",
        "colab": {
          "base_uri": "https://localhost:8080/",
          "height": 74
        },
        "outputId": "5a3b3692-fc06-4b4b-9409-3d4861b76cb8"
      },
      "source": [
        "!pip install opencv-python"
      ],
      "execution_count": 20,
      "outputs": [
        {
          "output_type": "stream",
          "text": [
            "Requirement already satisfied: opencv-python in /usr/local/lib/python3.6/dist-packages (4.1.2.30)\n",
            "Requirement already satisfied: numpy>=1.11.3 in /usr/local/lib/python3.6/dist-packages (from opencv-python) (1.18.4)\n"
          ],
          "name": "stdout"
        }
      ]
    },
    {
      "cell_type": "code",
      "metadata": {
        "id": "Ke5hfVqvsTPW",
        "colab_type": "code",
        "colab": {
          "base_uri": "https://localhost:8080/",
          "height": 35
        },
        "outputId": "a2f40d55-25dd-4f89-e395-1d4a9ba80621"
      },
      "source": [
        "import cv2\n",
        "# print version number\n",
        "print(cv2.__version__)"
      ],
      "execution_count": 21,
      "outputs": [
        {
          "output_type": "stream",
          "text": [
            "4.1.2\n"
          ],
          "name": "stdout"
        }
      ]
    },
    {
      "cell_type": "code",
      "metadata": {
        "id": "TQLUH_pTuce1",
        "colab_type": "code",
        "colab": {
          "base_uri": "https://localhost:8080/",
          "height": 126
        },
        "outputId": "c268f88d-8d79-4af5-90ea-4362b6c45477"
      },
      "source": [
        "!git clone https://github.com/Muskantomar001/insightface1.git"
      ],
      "execution_count": 45,
      "outputs": [
        {
          "output_type": "stream",
          "text": [
            "Cloning into 'insightface1'...\n",
            "remote: Enumerating objects: 3, done.\u001b[K\n",
            "remote: Counting objects:  33% (1/3)\u001b[K\rremote: Counting objects:  66% (2/3)\u001b[K\rremote: Counting objects: 100% (3/3)\u001b[K\rremote: Counting objects: 100% (3/3), done.\u001b[K\n",
            "remote: Compressing objects:  33% (1/3)\u001b[K\rremote: Compressing objects:  66% (2/3)\u001b[K\rremote: Compressing objects: 100% (3/3)\u001b[K\rremote: Compressing objects: 100% (3/3), done.\u001b[K\n",
            "remote: Total 3 (delta 0), reused 0 (delta 0), pack-reused 0\n",
            "Unpacking objects:  33% (1/3)   \rUnpacking objects:  66% (2/3)   \rUnpacking objects: 100% (3/3)   \rUnpacking objects: 100% (3/3), done.\n"
          ],
          "name": "stdout"
        }
      ]
    },
    {
      "cell_type": "code",
      "metadata": {
        "id": "nG0e0n4iuGvu",
        "colab_type": "code",
        "colab": {
          "base_uri": "https://localhost:8080/",
          "height": 371
        },
        "outputId": "e56e5ab1-e2ab-4dae-f08a-0d0ad76999ce"
      },
      "source": [
        "#demo.py\n",
        "import cv2 as cv\n",
        "import numpy as np\n",
        "from PIL import Image\n",
        "\n",
        "\n",
        "from visualization_utils import show_bboxes\n",
        "\n",
        "if __name__ == '__main__':\n",
        "    img = Image.open('images/office1.jpg')\n",
        "    bounding_boxes, landmarks = detector.detect_faces(img)\n",
        "    img = cv.cvtColor(np.array(img), cv.COLOR_RGB2BGR)\n",
        "    show_bboxes(img, bounding_boxes, landmarks)\n",
        "\n",
        "    img = Image.open('images/office2.jpg')\n",
        "    bounding_boxes, landmarks = detector.detect_faces(img)\n",
        "    img = cv.cvtColor(np.array(img), cv.COLOR_RGB2BGR)\n",
        "    show_bboxes(img, bounding_boxes, landmarks)\n",
        "\n",
        "    img = Image.open('images/office3.jpg')\n",
        "    bounding_boxes, landmarks = detector.detect_faces(img)\n",
        "    img = cv.cvtColor(np.array(img), cv.COLOR_RGB2BGR)\n",
        "    show_bboxes(img, bounding_boxes, landmarks)\n",
        "\n",
        "    img = Image.open('images/office4.jpg')\n",
        "    bounding_boxes, landmarks = detector.detect_faces(img)\n",
        "    img = cv.cvtColor(np.array(img), cv.COLOR_RGB2BGR)\n",
        "    show_bboxes(img, bounding_boxes, landmarks)\n",
        "\n",
        "    img = Image.open('images/office5.jpg')\n",
        "    bounding_boxes, landmarks = detector.detect_faces(img)\n",
        "    img = cv.cvtColor(np.array(img), cv.COLOR_RGB2BGR)\n",
        "    show_bboxes(img, bounding_boxes, landmarks)"
      ],
      "execution_count": 57,
      "outputs": [
        {
          "output_type": "error",
          "ename": "FileNotFoundError",
          "evalue": "ignored",
          "traceback": [
            "\u001b[0;31m---------------------------------------------------------------------------\u001b[0m",
            "\u001b[0;31mFileNotFoundError\u001b[0m                         Traceback (most recent call last)",
            "\u001b[0;32m<ipython-input-57-24dfb898430b>\u001b[0m in \u001b[0;36m<module>\u001b[0;34m()\u001b[0m\n\u001b[1;32m      8\u001b[0m \u001b[0;34m\u001b[0m\u001b[0m\n\u001b[1;32m      9\u001b[0m \u001b[0;32mif\u001b[0m \u001b[0m__name__\u001b[0m \u001b[0;34m==\u001b[0m \u001b[0;34m'__main__'\u001b[0m\u001b[0;34m:\u001b[0m\u001b[0;34m\u001b[0m\u001b[0;34m\u001b[0m\u001b[0m\n\u001b[0;32m---> 10\u001b[0;31m     \u001b[0mimg\u001b[0m \u001b[0;34m=\u001b[0m \u001b[0mImage\u001b[0m\u001b[0;34m.\u001b[0m\u001b[0mopen\u001b[0m\u001b[0;34m(\u001b[0m\u001b[0;34m'images/office1.jpg'\u001b[0m\u001b[0;34m)\u001b[0m\u001b[0;34m\u001b[0m\u001b[0;34m\u001b[0m\u001b[0m\n\u001b[0m\u001b[1;32m     11\u001b[0m     \u001b[0mbounding_boxes\u001b[0m\u001b[0;34m,\u001b[0m \u001b[0mlandmarks\u001b[0m \u001b[0;34m=\u001b[0m \u001b[0mdetector\u001b[0m\u001b[0;34m.\u001b[0m\u001b[0mdetect_faces\u001b[0m\u001b[0;34m(\u001b[0m\u001b[0mimg\u001b[0m\u001b[0;34m)\u001b[0m\u001b[0;34m\u001b[0m\u001b[0;34m\u001b[0m\u001b[0m\n\u001b[1;32m     12\u001b[0m     \u001b[0mimg\u001b[0m \u001b[0;34m=\u001b[0m \u001b[0mcv\u001b[0m\u001b[0;34m.\u001b[0m\u001b[0mcvtColor\u001b[0m\u001b[0;34m(\u001b[0m\u001b[0mnp\u001b[0m\u001b[0;34m.\u001b[0m\u001b[0marray\u001b[0m\u001b[0;34m(\u001b[0m\u001b[0mimg\u001b[0m\u001b[0;34m)\u001b[0m\u001b[0;34m,\u001b[0m \u001b[0mcv\u001b[0m\u001b[0;34m.\u001b[0m\u001b[0mCOLOR_RGB2BGR\u001b[0m\u001b[0;34m)\u001b[0m\u001b[0;34m\u001b[0m\u001b[0;34m\u001b[0m\u001b[0m\n",
            "\u001b[0;32m/usr/local/lib/python3.6/dist-packages/PIL/Image.py\u001b[0m in \u001b[0;36mopen\u001b[0;34m(fp, mode)\u001b[0m\n\u001b[1;32m   2807\u001b[0m \u001b[0;34m\u001b[0m\u001b[0m\n\u001b[1;32m   2808\u001b[0m     \u001b[0;32mif\u001b[0m \u001b[0mfilename\u001b[0m\u001b[0;34m:\u001b[0m\u001b[0;34m\u001b[0m\u001b[0;34m\u001b[0m\u001b[0m\n\u001b[0;32m-> 2809\u001b[0;31m         \u001b[0mfp\u001b[0m \u001b[0;34m=\u001b[0m \u001b[0mbuiltins\u001b[0m\u001b[0;34m.\u001b[0m\u001b[0mopen\u001b[0m\u001b[0;34m(\u001b[0m\u001b[0mfilename\u001b[0m\u001b[0;34m,\u001b[0m \u001b[0;34m\"rb\"\u001b[0m\u001b[0;34m)\u001b[0m\u001b[0;34m\u001b[0m\u001b[0;34m\u001b[0m\u001b[0m\n\u001b[0m\u001b[1;32m   2810\u001b[0m         \u001b[0mexclusive_fp\u001b[0m \u001b[0;34m=\u001b[0m \u001b[0;32mTrue\u001b[0m\u001b[0;34m\u001b[0m\u001b[0;34m\u001b[0m\u001b[0m\n\u001b[1;32m   2811\u001b[0m \u001b[0;34m\u001b[0m\u001b[0m\n",
            "\u001b[0;31mFileNotFoundError\u001b[0m: [Errno 2] No such file or directory: 'images/office1.jpg'"
          ]
        }
      ]
    },
    {
      "cell_type": "code",
      "metadata": {
        "id": "C7v423od0Tm8",
        "colab_type": "code",
        "colab": {}
      },
      "source": [
        "!cp \"/content/visualization_utils.py\" ."
      ],
      "execution_count": 0,
      "outputs": []
    },
    {
      "cell_type": "code",
      "metadata": {
        "id": "BF-yTTtvuQYz",
        "colab_type": "code",
        "colab": {
          "base_uri": "https://localhost:8080/",
          "height": 35
        },
        "outputId": "cb09067d-72cd-4fa3-bb05-73490f2d681a"
      },
      "source": [
        "from mtcnn.mtcnn import MTCNN"
      ],
      "execution_count": 31,
      "outputs": [
        {
          "output_type": "stream",
          "text": [
            "Using TensorFlow backend.\n"
          ],
          "name": "stderr"
        }
      ]
    },
    {
      "cell_type": "code",
      "metadata": {
        "id": "5dpC_6CAv9nR",
        "colab_type": "code",
        "colab": {}
      },
      "source": [
        "detector = MTCNN()"
      ],
      "execution_count": 0,
      "outputs": []
    },
    {
      "cell_type": "code",
      "metadata": {
        "id": "WcDoqxKNuj-T",
        "colab_type": "code",
        "colab": {
          "base_uri": "https://localhost:8080/",
          "height": 710
        },
        "outputId": "25c43913-294e-47c3-c15c-64c1f74b9cc8"
      },
      "source": [
        "!pip install tensorflow"
      ],
      "execution_count": 33,
      "outputs": [
        {
          "output_type": "stream",
          "text": [
            "Requirement already satisfied: tensorflow in /usr/local/lib/python3.6/dist-packages (2.2.0)\n",
            "Requirement already satisfied: gast==0.3.3 in /usr/local/lib/python3.6/dist-packages (from tensorflow) (0.3.3)\n",
            "Requirement already satisfied: h5py<2.11.0,>=2.10.0 in /usr/local/lib/python3.6/dist-packages (from tensorflow) (2.10.0)\n",
            "Requirement already satisfied: absl-py>=0.7.0 in /usr/local/lib/python3.6/dist-packages (from tensorflow) (0.9.0)\n",
            "Requirement already satisfied: keras-preprocessing>=1.1.0 in /usr/local/lib/python3.6/dist-packages (from tensorflow) (1.1.2)\n",
            "Requirement already satisfied: tensorboard<2.3.0,>=2.2.0 in /usr/local/lib/python3.6/dist-packages (from tensorflow) (2.2.1)\n",
            "Requirement already satisfied: protobuf>=3.8.0 in /usr/local/lib/python3.6/dist-packages (from tensorflow) (3.10.0)\n",
            "Requirement already satisfied: numpy<2.0,>=1.16.0 in /usr/local/lib/python3.6/dist-packages (from tensorflow) (1.18.4)\n",
            "Requirement already satisfied: wrapt>=1.11.1 in /usr/local/lib/python3.6/dist-packages (from tensorflow) (1.12.1)\n",
            "Requirement already satisfied: grpcio>=1.8.6 in /usr/local/lib/python3.6/dist-packages (from tensorflow) (1.29.0)\n",
            "Requirement already satisfied: wheel>=0.26; python_version >= \"3\" in /usr/local/lib/python3.6/dist-packages (from tensorflow) (0.34.2)\n",
            "Requirement already satisfied: termcolor>=1.1.0 in /usr/local/lib/python3.6/dist-packages (from tensorflow) (1.1.0)\n",
            "Requirement already satisfied: scipy==1.4.1; python_version >= \"3\" in /usr/local/lib/python3.6/dist-packages (from tensorflow) (1.4.1)\n",
            "Requirement already satisfied: tensorflow-estimator<2.3.0,>=2.2.0 in /usr/local/lib/python3.6/dist-packages (from tensorflow) (2.2.0)\n",
            "Requirement already satisfied: astunparse==1.6.3 in /usr/local/lib/python3.6/dist-packages (from tensorflow) (1.6.3)\n",
            "Requirement already satisfied: google-pasta>=0.1.8 in /usr/local/lib/python3.6/dist-packages (from tensorflow) (0.2.0)\n",
            "Requirement already satisfied: opt-einsum>=2.3.2 in /usr/local/lib/python3.6/dist-packages (from tensorflow) (3.2.1)\n",
            "Requirement already satisfied: six>=1.12.0 in /usr/local/lib/python3.6/dist-packages (from tensorflow) (1.12.0)\n",
            "Requirement already satisfied: google-auth<2,>=1.6.3 in /usr/local/lib/python3.6/dist-packages (from tensorboard<2.3.0,>=2.2.0->tensorflow) (1.7.2)\n",
            "Requirement already satisfied: werkzeug>=0.11.15 in /usr/local/lib/python3.6/dist-packages (from tensorboard<2.3.0,>=2.2.0->tensorflow) (1.0.1)\n",
            "Requirement already satisfied: google-auth-oauthlib<0.5,>=0.4.1 in /usr/local/lib/python3.6/dist-packages (from tensorboard<2.3.0,>=2.2.0->tensorflow) (0.4.1)\n",
            "Requirement already satisfied: tensorboard-plugin-wit>=1.6.0 in /usr/local/lib/python3.6/dist-packages (from tensorboard<2.3.0,>=2.2.0->tensorflow) (1.6.0.post3)\n",
            "Requirement already satisfied: setuptools>=41.0.0 in /usr/local/lib/python3.6/dist-packages (from tensorboard<2.3.0,>=2.2.0->tensorflow) (46.3.0)\n",
            "Requirement already satisfied: requests<3,>=2.21.0 in /usr/local/lib/python3.6/dist-packages (from tensorboard<2.3.0,>=2.2.0->tensorflow) (2.23.0)\n",
            "Requirement already satisfied: markdown>=2.6.8 in /usr/local/lib/python3.6/dist-packages (from tensorboard<2.3.0,>=2.2.0->tensorflow) (3.2.2)\n",
            "Requirement already satisfied: cachetools<3.2,>=2.0.0 in /usr/local/lib/python3.6/dist-packages (from google-auth<2,>=1.6.3->tensorboard<2.3.0,>=2.2.0->tensorflow) (3.1.1)\n",
            "Requirement already satisfied: pyasn1-modules>=0.2.1 in /usr/local/lib/python3.6/dist-packages (from google-auth<2,>=1.6.3->tensorboard<2.3.0,>=2.2.0->tensorflow) (0.2.8)\n",
            "Requirement already satisfied: rsa<4.1,>=3.1.4 in /usr/local/lib/python3.6/dist-packages (from google-auth<2,>=1.6.3->tensorboard<2.3.0,>=2.2.0->tensorflow) (4.0)\n",
            "Requirement already satisfied: requests-oauthlib>=0.7.0 in /usr/local/lib/python3.6/dist-packages (from google-auth-oauthlib<0.5,>=0.4.1->tensorboard<2.3.0,>=2.2.0->tensorflow) (1.3.0)\n",
            "Requirement already satisfied: chardet<4,>=3.0.2 in /usr/local/lib/python3.6/dist-packages (from requests<3,>=2.21.0->tensorboard<2.3.0,>=2.2.0->tensorflow) (3.0.4)\n",
            "Requirement already satisfied: urllib3!=1.25.0,!=1.25.1,<1.26,>=1.21.1 in /usr/local/lib/python3.6/dist-packages (from requests<3,>=2.21.0->tensorboard<2.3.0,>=2.2.0->tensorflow) (1.24.3)\n",
            "Requirement already satisfied: certifi>=2017.4.17 in /usr/local/lib/python3.6/dist-packages (from requests<3,>=2.21.0->tensorboard<2.3.0,>=2.2.0->tensorflow) (2020.4.5.1)\n",
            "Requirement already satisfied: idna<3,>=2.5 in /usr/local/lib/python3.6/dist-packages (from requests<3,>=2.21.0->tensorboard<2.3.0,>=2.2.0->tensorflow) (2.9)\n",
            "Requirement already satisfied: importlib-metadata; python_version < \"3.8\" in /usr/local/lib/python3.6/dist-packages (from markdown>=2.6.8->tensorboard<2.3.0,>=2.2.0->tensorflow) (1.6.0)\n",
            "Requirement already satisfied: pyasn1<0.5.0,>=0.4.6 in /usr/local/lib/python3.6/dist-packages (from pyasn1-modules>=0.2.1->google-auth<2,>=1.6.3->tensorboard<2.3.0,>=2.2.0->tensorflow) (0.4.8)\n",
            "Requirement already satisfied: oauthlib>=3.0.0 in /usr/local/lib/python3.6/dist-packages (from requests-oauthlib>=0.7.0->google-auth-oauthlib<0.5,>=0.4.1->tensorboard<2.3.0,>=2.2.0->tensorflow) (3.1.0)\n",
            "Requirement already satisfied: zipp>=0.5 in /usr/local/lib/python3.6/dist-packages (from importlib-metadata; python_version < \"3.8\"->markdown>=2.6.8->tensorboard<2.3.0,>=2.2.0->tensorflow) (3.1.0)\n"
          ],
          "name": "stdout"
        }
      ]
    },
    {
      "cell_type": "code",
      "metadata": {
        "id": "6g7-2rCwy0W2",
        "colab_type": "code",
        "colab": {}
      },
      "source": [
        "import cv2\n",
        "\n",
        "\n",
        "def show_bboxes(img, bounding_boxes, facial_landmarks=[]):\n",
        "    \"\"\"Draw bounding boxes and facial landmarks.\n",
        "    Arguments:\n",
        "        img: an instance of PIL.Image.\n",
        "        bounding_boxes: a float numpy array of shape [n, 5].\n",
        "        facial_landmarks: a float numpy array of shape [n, 10].\n",
        "    Returns:\n",
        "        an instance of PIL.Image.\n",
        "    \"\"\"\n",
        "\n",
        "    # img_copy = img.copy()\n",
        "    # draw = ImageDraw.Draw(img_copy)\n",
        "    draw = img.copy()\n",
        "\n",
        "    for b in bounding_boxes:\n",
        "        b = [int(round(value)) for value in b]\n",
        "        # print (b)\n",
        "        cv2.rectangle(draw, (b[0], b[1]), (b[2], b[3]), (0,255,0), 2)\n",
        "        \n",
        "\n",
        "    for p in facial_landmarks:\n",
        "        for i in range(5):\n",
        "            cv2.circle(draw, (p[i] , p[i + 5]), 1, (255,0,0), -1)\n",
        "        \n",
        "    return draw"
      ],
      "execution_count": 0,
      "outputs": []
    },
    {
      "cell_type": "code",
      "metadata": {
        "id": "9OsSONfM5bO1",
        "colab_type": "code",
        "colab": {}
      },
      "source": [
        "!cp \"/content/box_utils.py\" ."
      ],
      "execution_count": 0,
      "outputs": []
    },
    {
      "cell_type": "code",
      "metadata": {
        "id": "_WMuDoip6C13",
        "colab_type": "code",
        "colab": {}
      },
      "source": [
        "import box_utils"
      ],
      "execution_count": 0,
      "outputs": []
    },
    {
      "cell_type": "code",
      "metadata": {
        "id": "xpn83AIj9W1Q",
        "colab_type": "code",
        "colab": {}
      },
      "source": [
        "!cp \"/content/models.py\" ."
      ],
      "execution_count": 0,
      "outputs": []
    },
    {
      "cell_type": "code",
      "metadata": {
        "id": "hdqybEBr7yP5",
        "colab_type": "code",
        "colab": {
          "base_uri": "https://localhost:8080/",
          "height": 135
        },
        "outputId": "afab26f5-ff86-47db-bc7c-35e54f592a8e"
      },
      "source": [
        "#mtcnn\n",
        "#detector.py\n",
        "import numpy as np\n",
        "import torch\n",
        "from torch.autograd import Variable\n",
        "\n",
        "from box_utils import nms, calibrate_box, convert_to_square\n",
        "from first_stage import run_first_stage\n",
        "from models import PNet, RNet, ONet\n",
        "\n",
        "device = torch.device('cuda' if torch.cuda.is_available() else 'cpu')\n",
        "\n",
        "\n",
        "def detect_faces(image, min_face_size=20.0,\n",
        "                 thresholds=[0.6, 0.7, 0.8],\n",
        "                 nms_thresholds=[0.7, 0.7, 0.7]):\n",
        "    \"\"\"\n",
        "    Arguments:\n",
        "        image: an instance of PIL.Image.\n",
        "        min_face_size: a float number.\n",
        "        thresholds: a list of length 3.\n",
        "        nms_thresholds: a list of length 3.\n",
        "    Returns:\n",
        "        two float numpy arrays of shapes [n_boxes, 4] and [n_boxes, 10],\n",
        "        bounding boxes and facial landmarks.\n",
        "    \"\"\"\n",
        "\n",
        "    with torch.no_grad():\n",
        "        # LOAD MODELS\n",
        "        pnet = PNet().to(device)\n",
        "        rnet = RNet().to(device)\n",
        "        onet = ONet().to(device)\n",
        "        onet.eval()\n",
        "\n",
        "        # BUILD AN IMAGE PYRAMID\n",
        "        width, height = image.size\n",
        "        min_length = min(height, width)\n",
        "\n",
        "        min_detection_size = 12\n",
        "        factor = 0.707  # sqrt(0.5)\n",
        "\n",
        "        # scales for scaling the image\n",
        "        scales = []\n",
        "\n",
        "        # scales the image so that\n",
        "        # minimum size that we can detect equals to\n",
        "        # minimum face size that we want to detect\n",
        "        m = min_detection_size / min_face_size\n",
        "        min_length *= m\n",
        "\n",
        "        factor_count = 0\n",
        "        while min_length > min_detection_size:\n",
        "            scales.append(m * factor ** factor_count)\n",
        "            min_length *= factor\n",
        "            factor_count += 1\n",
        "\n",
        "        # STAGE 1\n",
        "\n",
        "        # it will be returned\n",
        "        bounding_boxes = []\n",
        "\n",
        "        # run P-Net on different scales\n",
        "        for s in scales:\n",
        "            boxes = run_first_stage(image, pnet, scale=s, threshold=thresholds[0])\n",
        "            bounding_boxes.append(boxes)\n",
        "\n",
        "        # collect boxes (and offsets, and scores) from different scales\n",
        "        bounding_boxes = [i for i in bounding_boxes if i is not None]\n",
        "        bounding_boxes = np.vstack(bounding_boxes)\n",
        "\n",
        "        keep = nms(bounding_boxes[:, 0:5], nms_thresholds[0])\n",
        "        bounding_boxes = bounding_boxes[keep]\n",
        "\n",
        "        # use offsets predicted by pnet to transform bounding boxes\n",
        "        bounding_boxes = calibrate_box(bounding_boxes[:, 0:5], bounding_boxes[:, 5:])\n",
        "        # shape [n_boxes, 5]\n",
        "\n",
        "        bounding_boxes = convert_to_square(bounding_boxes)\n",
        "        bounding_boxes[:, 0:4] = np.round(bounding_boxes[:, 0:4])\n",
        "\n",
        "        # STAGE 2\n",
        "\n",
        "        img_boxes = get_image_boxes(bounding_boxes, image, size=24)\n",
        "        img_boxes = Variable(torch.FloatTensor(img_boxes).to(device))\n",
        "        output = rnet(img_boxes)\n",
        "        offsets = output[0].data.cpu().numpy()  # shape [n_boxes, 4]\n",
        "        probs = output[1].data.cpu().numpy()  # shape [n_boxes, 2]\n",
        "\n",
        "        keep = np.where(probs[:, 1] > thresholds[1])[0]\n",
        "        bounding_boxes = bounding_boxes[keep]\n",
        "        bounding_boxes[:, 4] = probs[keep, 1].reshape((-1,))\n",
        "        offsets = offsets[keep]\n",
        "\n",
        "        keep = nms(bounding_boxes, nms_thresholds[1])\n",
        "        bounding_boxes = bounding_boxes[keep]\n",
        "        bounding_boxes = calibrate_box(bounding_boxes, offsets[keep])\n",
        "        bounding_boxes = convert_to_square(bounding_boxes)\n",
        "        bounding_boxes[:, 0:4] = np.round(bounding_boxes[:, 0:4])\n",
        "\n",
        "        # STAGE 3\n",
        "\n",
        "        img_boxes = get_image_boxes(bounding_boxes, image, size=48)\n",
        "        if len(img_boxes) == 0:\n",
        "            return [], []\n",
        "        img_boxes = Variable(torch.FloatTensor(img_boxes).to(device))\n",
        "        output = onet(img_boxes)\n",
        "        landmarks = output[0].data.cpu().numpy()  # shape [n_boxes, 10]\n",
        "        offsets = output[1].data.cpu().numpy()  # shape [n_boxes, 4]\n",
        "        probs = output[2].data.cpu().numpy()  # shape [n_boxes, 2]\n",
        "\n",
        "        keep = np.where(probs[:, 1] > thresholds[2])[0]\n",
        "        bounding_boxes = bounding_boxes[keep]\n",
        "        bounding_boxes[:, 4] = probs[keep, 1].reshape((-1,))\n",
        "        offsets = offsets[keep]\n",
        "        landmarks = landmarks[keep]\n",
        "\n",
        "        # compute landmark points\n",
        "        width = bounding_boxes[:, 2] - bounding_boxes[:, 0] + 1.0\n",
        "        height = bounding_boxes[:, 3] - bounding_boxes[:, 1] + 1.0\n",
        "        xmin, ymin = bounding_boxes[:, 0], bounding_boxes[:, 1]\n",
        "        landmarks[:, 0:5] = np.expand_dims(xmin, 1) + np.expand_dims(width, 1) * landmarks[:, 0:5]\n",
        "        landmarks[:, 5:10] = np.expand_dims(ymin, 1) + np.expand_dims(height, 1) * landmarks[:, 5:10]\n",
        "\n",
        "        bounding_boxes = calibrate_box(bounding_boxes, offsets)\n",
        "        keep = nms(bounding_boxes, nms_thresholds[2], mode='min')\n",
        "        bounding_boxes = bounding_boxes[keep]\n",
        "        landmarks = landmarks[keep]\n",
        "\n",
        "        return bounding_boxes, landmarks"
      ],
      "execution_count": 86,
      "outputs": [
        {
          "output_type": "error",
          "ename": "SyntaxError",
          "evalue": "ignored",
          "traceback": [
            "\u001b[0;36m  File \u001b[0;32m\"/content/drive/My Drive/DLDatasets/first_stage.py\"\u001b[0;36m, line \u001b[0;32m112\u001b[0m\n\u001b[0;31m    !cp \"/content/box_utils.py\" .\u001b[0m\n\u001b[0m    ^\u001b[0m\n\u001b[0;31mSyntaxError\u001b[0m\u001b[0;31m:\u001b[0m invalid syntax\n"
          ]
        }
      ]
    },
    {
      "cell_type": "code",
      "metadata": {
        "id": "D37CBC7SBr_Z",
        "colab_type": "code",
        "colab": {}
      },
      "source": [
        ""
      ],
      "execution_count": 0,
      "outputs": []
    },
    {
      "cell_type": "code",
      "metadata": {
        "id": "u4VRXaGz-buv",
        "colab_type": "code",
        "colab": {}
      },
      "source": [
        "!cp \"/content/first_stage.py\" ."
      ],
      "execution_count": 0,
      "outputs": []
    },
    {
      "cell_type": "code",
      "metadata": {
        "id": "gyAuTm-K-jYJ",
        "colab_type": "code",
        "colab": {
          "base_uri": "https://localhost:8080/",
          "height": 135
        },
        "outputId": "4d8ea16c-a3c9-451c-fa5c-b6bd06bf3dfc"
      },
      "source": [
        "import first_stage"
      ],
      "execution_count": 82,
      "outputs": [
        {
          "output_type": "error",
          "ename": "SyntaxError",
          "evalue": "ignored",
          "traceback": [
            "\u001b[0;36m  File \u001b[0;32m\"/content/drive/My Drive/DLDatasets/first_stage.py\"\u001b[0;36m, line \u001b[0;32m112\u001b[0m\n\u001b[0;31m    !cp \"/content/box_utils.py\" .\u001b[0m\n\u001b[0m    ^\u001b[0m\n\u001b[0;31mSyntaxError\u001b[0m\u001b[0;31m:\u001b[0m invalid syntax\n"
          ]
        }
      ]
    }
  ]
}