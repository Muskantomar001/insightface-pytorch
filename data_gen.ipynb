{
  "nbformat": 4,
  "nbformat_minor": 0,
  "metadata": {
    "colab": {
      "name": "data_gen",
      "provenance": [],
      "collapsed_sections": []
    },
    "kernelspec": {
      "name": "python3",
      "display_name": "Python 3"
    }
  },
  "cells": [
    {
      "cell_type": "code",
      "metadata": {
        "id": "JwmI1WtkKd2K",
        "colab_type": "code",
        "colab": {}
      },
      "source": [
        "#data_gen\n",
        "import os\n",
        "import pickle\n",
        "\n",
        "from PIL import Image\n",
        "from torch.utils.data import Dataset\n",
        "from torchvision import transforms\n",
        "\n",
        "from config import IMG_DIR\n",
        "from config import pickle_file\n",
        "\n",
        "# Data augmentation and normalization for training\n",
        "# Just normalization for validation\n",
        "data_transforms = {\n",
        "    'train': transforms.Compose([\n",
        "        transforms.RandomHorizontalFlip(),\n",
        "        transforms.ColorJitter(brightness=0.125, contrast=0.125, saturation=0.125),\n",
        "        transforms.ToTensor(),\n",
        "        transforms.Normalize([0.485, 0.456, 0.406], [0.229, 0.224, 0.225]),\n",
        "    ]),\n",
        "    'val': transforms.Compose([\n",
        "        transforms.ToTensor(),\n",
        "        transforms.Normalize([0.485, 0.456, 0.406], [0.229, 0.224, 0.225])\n",
        "    ]),\n",
        "}\n",
        "\n",
        "\n",
        "class ArcFaceDataset(Dataset):\n",
        "    def __init__(self, split):\n",
        "        with open(pickle_file, 'rb') as file:\n",
        "            data = pickle.load(file)\n",
        "\n",
        "        self.split = split\n",
        "        self.samples = data\n",
        "        self.transformer = data_transforms['train']\n",
        "\n",
        "    def __getitem__(self, i):\n",
        "        sample = self.samples[i]\n",
        "        filename = sample['img']\n",
        "        label = sample['label']\n",
        "\n",
        "        filename = os.path.join(IMG_DIR, filename)\n",
        "        img = Image.open(filename).convert('RGB')\n",
        "        img = self.transformer(img)\n",
        "\n",
        "        return img, label\n",
        "\n",
        "    def __len__(self):\n",
        "        return len(self.samples)"
      ],
      "execution_count": 0,
      "outputs": []
    },
    {
      "cell_type": "code",
      "metadata": {
        "id": "9dlkhRzxNgKa",
        "colab_type": "code",
        "colab": {}
      },
      "source": [
        "import config"
      ],
      "execution_count": 0,
      "outputs": []
    },
    {
      "cell_type": "code",
      "metadata": {
        "id": "R9uv1vzsLNfV",
        "colab_type": "code",
        "colab": {}
      },
      "source": [
        "!cp \"/content/config.py\" ."
      ],
      "execution_count": 0,
      "outputs": []
    },
    {
      "cell_type": "code",
      "metadata": {
        "id": "pk87U-XhQ8wT",
        "colab_type": "code",
        "colab": {}
      },
      "source": [
        "!cp \"/content/config1.py\" ."
      ],
      "execution_count": 0,
      "outputs": []
    },
    {
      "cell_type": "code",
      "metadata": {
        "id": "xvQ9LWpwLZ2B",
        "colab_type": "code",
        "outputId": "3296c102-c67e-48e8-f09e-af126edf2547",
        "colab": {
          "base_uri": "https://localhost:8080/",
          "height": 136
        }
      },
      "source": [
        "import os\n",
        "os.chdir(\"/content/drive/My Drive/DLDatasets\")\n",
        "!ls"
      ],
      "execution_count": 0,
      "outputs": [
        {
          "output_type": "stream",
          "text": [
            "align_faces.py\t first_stage.py   models.py\t     retinaface.py\n",
            "box_utils1.py\t image_aug.ipynb  msceleb.zip\t     train.py\n",
            "config1.py\t _init_.py\t  multibox_loss1.py  visualization_utils.py\n",
            "config.py\t insightface\t  net.py\t     wider_face.py\n",
            "data\t\t insightface1\t  prior_box.py\n",
            "data_augment.py  InsightFace-v2   __pycache__\n",
            "data_gen.ipynb\t loader.py\t  py_cpu_nms.py\n"
          ],
          "name": "stdout"
        }
      ]
    }
  ]
}