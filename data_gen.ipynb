{
  "nbformat": 4,
  "nbformat_minor": 0,
  "metadata": {
    "colab": {
      "name": "data_gen",
      "provenance": [],
      "collapsed_sections": []
    },
    "kernelspec": {
      "name": "python3",
      "display_name": "Python 3"
    }
  },
  "cells": [
    {
      "cell_type": "code",
      "metadata": {
        "id": "JwmI1WtkKd2K",
        "colab_type": "code",
        "colab": {}
      },
      "source": [
        "#data_gen\n",
        "import os\n",
        "import pickle\n",
        "\n",
        "from PIL import Image\n",
        "from torch.utils.data import Dataset\n",
        "from torchvision import transforms\n",
        "\n",
        "from config import IMG_DIR\n",
        "from config import pickle_file\n",
        "\n",
        "# Data augmentation and normalization for training\n",
        "# Just normalization for validation\n",
        "data_transforms = {\n",
        "    'train': transforms.Compose([\n",
        "        transforms.RandomHorizontalFlip(),\n",
        "        transforms.ColorJitter(brightness=0.125, contrast=0.125, saturation=0.125),\n",
        "        transforms.ToTensor(),\n",
        "        transforms.Normalize([0.485, 0.456, 0.406], [0.229, 0.224, 0.225]),\n",
        "    ]),\n",
        "    'val': transforms.Compose([\n",
        "        transforms.ToTensor(),\n",
        "        transforms.Normalize([0.485, 0.456, 0.406], [0.229, 0.224, 0.225])\n",
        "    ]),\n",
        "}\n",
        "\n",
        "\n",
        "class ArcFaceDataset(Dataset):\n",
        "    def __init__(self, split):\n",
        "        with open(pickle_file, 'rb') as file:\n",
        "            data = pickle.load(file)\n",
        "\n",
        "        self.split = split\n",
        "        self.samples = data\n",
        "        self.transformer = data_transforms['train']\n",
        "\n",
        "    def __getitem__(self, i):\n",
        "        sample = self.samples[i]\n",
        "        filename = sample['img']\n",
        "        label = sample['label']\n",
        "\n",
        "        filename = os.path.join(IMG_DIR, filename)\n",
        "        img = Image.open(filename).convert('RGB')\n",
        "        img = self.transformer(img)\n",
        "\n",
        "        return img, label\n",
        "\n",
        "    def __len__(self):\n",
        "        return len(self.samples)"
      ],
      "execution_count": 0,
      "outputs": []
    }
  ]
}