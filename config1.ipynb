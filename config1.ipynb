{
  "nbformat": 4,
  "nbformat_minor": 0,
  "metadata": {
    "colab": {
      "name": "config1",
      "provenance": []
    },
    "kernelspec": {
      "name": "python3",
      "display_name": "Python 3"
    }
  },
  "cells": [
    {
      "cell_type": "code",
      "metadata": {
        "id": "8UPWtyf0EBgg",
        "colab_type": "code",
        "colab": {}
      },
      "source": [
        "#retina_face\n",
        "#data\n",
        "#config1.py\n",
        "# config1.py\n",
        "\n",
        "cfg_mnet = {\n",
        "    'name': 'mobilenet0.25',\n",
        "    'min_sizes': [[16, 32], [64, 128], [256, 512]],\n",
        "    'steps': [8, 16, 32],\n",
        "    'variance': [0.1, 0.2],\n",
        "    'clip': False,\n",
        "    'loc_weight': 2.0,\n",
        "    'gpu_train': True,\n",
        "    'batch_size': 32,\n",
        "    'ngpu': 1,\n",
        "    'epoch': 250,\n",
        "    'decay1': 190,\n",
        "    'decay2': 220,\n",
        "    'image_size': 640,\n",
        "    'pretrain': True,\n",
        "    'return_layers': {'stage1': 1, 'stage2': 2, 'stage3': 3},\n",
        "    'in_channel': 32,\n",
        "    'out_channel': 64\n",
        "}\n",
        "\n",
        "cfg_re50 = {\n",
        "    'name': 'Resnet50',\n",
        "    'min_sizes': [[16, 32], [64, 128], [256, 512]],\n",
        "    'steps': [8, 16, 32],\n",
        "    'variance': [0.1, 0.2],\n",
        "    'clip': False,\n",
        "    'loc_weight': 2.0,\n",
        "    'gpu_train': True,\n",
        "    'batch_size': 24,\n",
        "    'ngpu': 4,\n",
        "    'epoch': 100,\n",
        "    'decay1': 70,\n",
        "    'decay2': 90,\n",
        "    'image_size': 840,\n",
        "    'pretrain': True,\n",
        "    'return_layers': {'layer2': 1, 'layer3': 2, 'layer4': 3},\n",
        "    'in_channel': 256,\n",
        "    'out_channel': 256\n",
        "}"
      ],
      "execution_count": 0,
      "outputs": []
    }
  ]
}