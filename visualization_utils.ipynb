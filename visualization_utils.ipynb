{
  "nbformat": 4,
  "nbformat_minor": 0,
  "metadata": {
    "colab": {
      "name": "visualization_utils",
      "provenance": []
    },
    "kernelspec": {
      "name": "python3",
      "display_name": "Python 3"
    }
  },
  "cells": [
    {
      "cell_type": "code",
      "metadata": {
        "id": "csZVZjllnT0P",
        "colab_type": "code",
        "colab": {}
      },
      "source": [
        "#visualization_utils.py\n",
        "import cv2 as cv\n",
        "\n",
        "\n",
        "def show_bboxes(img, bounding_boxes, facial_landmarks=[]):\n",
        "    \"\"\"Draw bounding boxes and facial landmarks.\n",
        "    Arguments:\n",
        "        img: an instance of numpy image.\n",
        "        bounding_boxes: a float numpy array of shape [n, 5].\n",
        "        facial_landmarks: a float numpy array of shape [n, 10].\n",
        "    \"\"\"\n",
        "\n",
        "    for b in bounding_boxes:\n",
        "        cv.rectangle(img, (int(b[0]), int(b[1])), (int(b[2]), int(b[3])), (255, 255, 255), 1)\n",
        "\n",
        "    for p in facial_landmarks:\n",
        "        for i in range(5):\n",
        "            cv.circle(img, (int(p[i]), int(p[i + 5])), 1, (0, 255, 0), -1)\n",
        "\n",
        "    cv.imshow('image', img)\n",
        "    cv.waitKey(0)"
      ],
      "execution_count": 0,
      "outputs": []
    }
  ]
}