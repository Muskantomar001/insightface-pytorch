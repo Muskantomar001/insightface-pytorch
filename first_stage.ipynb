{
  "nbformat": 4,
  "nbformat_minor": 0,
  "metadata": {
    "colab": {
      "name": "first_stage",
      "provenance": []
    },
    "kernelspec": {
      "name": "python3",
      "display_name": "Python 3"
    }
  },
  "cells": [
    {
      "cell_type": "code",
      "metadata": {
        "id": "WRfkT5929w63",
        "colab_type": "code",
        "colab": {}
      },
      "source": [
        "#mtcnn\n",
        "#first_stage.py\n",
        "import math\n",
        "\n",
        "import numpy as np\n",
        "import torch\n",
        "from PIL import Image\n",
        "from torch.autograd import Variable\n",
        "\n",
        "from box_utils import nms\n",
        "\n",
        "\n",
        "device = torch.device('cuda' if torch.cuda.is_available() else 'cpu')\n",
        "\n",
        "\n",
        "def run_first_stage(image, net, scale, threshold):\n",
        "    \"\"\"Run P-Net, generate bounding boxes, and do NMS.\n",
        "    Arguments:\n",
        "        image: an instance of PIL.Image.\n",
        "        net: an instance of pytorch's nn.Module, P-Net.\n",
        "        scale: a float number,\n",
        "            scale width and height of the image by this number.\n",
        "        threshold: a float number,\n",
        "            threshold on the probability of a face when generating\n",
        "            bounding boxes from predictions of the net.\n",
        "    Returns:\n",
        "        a float numpy array of shape [n_boxes, 9],\n",
        "            bounding boxes with scores and offsets (4 + 1 + 4).\n",
        "    \"\"\"\n",
        "\n",
        "    with torch.no_grad():\n",
        "        # scale the image and convert it to a float array\n",
        "        width, height = image.size\n",
        "        sw, sh = math.ceil(width * scale), math.ceil(height * scale)\n",
        "        img = image.resize((sw, sh), Image.BILINEAR)\n",
        "        img = np.asarray(img, 'float32')\n",
        "\n",
        "        img = Variable(torch.FloatTensor(box_utils._preprocess(img)).to(device))\n",
        "        output = net(img)\n",
        "        probs = output[1].data.cpu().numpy()[0, 1, :, :]\n",
        "        offsets = output[0].data.cpu().numpy()\n",
        "        # probs: probability of a face at each sliding window\n",
        "        # offsets: transformations to true bounding boxes\n",
        "\n",
        "        boxes = _generate_bboxes(probs, offsets, scale, threshold)\n",
        "        if len(boxes) == 0:\n",
        "            return None\n",
        "\n",
        "        keep = nms(boxes[:, 0:5], overlap_threshold=0.5)\n",
        "        return boxes[keep]\n",
        "\n",
        "\n",
        "def _generate_bboxes(probs, offsets, scale, threshold):\n",
        "    \"\"\"Generate bounding boxes at places\n",
        "    where there is probably a face.\n",
        "    Arguments:\n",
        "        probs: a float numpy array of shape [n, m].\n",
        "        offsets: a float numpy array of shape [1, 4, n, m].\n",
        "        scale: a float number,\n",
        "            width and height of the image were scaled by this number.\n",
        "        threshold: a float number.\n",
        "    Returns:\n",
        "        a float numpy array of shape [n_boxes, 9]\n",
        "    \"\"\"\n",
        "\n",
        "    # applying P-Net is equivalent, in some sense, to\n",
        "    # moving 12x12 window with stride 2\n",
        "    stride = 2\n",
        "    cell_size = 12\n",
        "\n",
        "    # indices of boxes where there is probably a face\n",
        "    inds = np.where(probs > threshold)\n",
        "\n",
        "    if inds[0].size == 0:\n",
        "        return np.array([])\n",
        "\n",
        "    # transformations of bounding boxes\n",
        "    tx1, ty1, tx2, ty2 = [offsets[0, i, inds[0], inds[1]] for i in range(4)]\n",
        "    # they are defined as:\n",
        "    # w = x2 - x1 + 1\n",
        "    # h = y2 - y1 + 1\n",
        "    # x1_true = x1 + tx1*w\n",
        "    # x2_true = x2 + tx2*w\n",
        "    # y1_true = y1 + ty1*h\n",
        "    # y2_true = y2 + ty2*h\n",
        "\n",
        "    offsets = np.array([tx1, ty1, tx2, ty2])\n",
        "    score = probs[inds[0], inds[1]]\n",
        "\n",
        "    # P-Net is applied to scaled images\n",
        "    # so we need to rescale bounding boxes back\n",
        "    bounding_boxes = np.vstack([\n",
        "        np.round((stride * inds[1] + 1.0) / scale),\n",
        "        np.round((stride * inds[0] + 1.0) / scale),\n",
        "        np.round((stride * inds[1] + 1.0 + cell_size) / scale),\n",
        "        np.round((stride * inds[0] + 1.0 + cell_size) / scale),\n",
        "        score, offsets\n",
        "    ])\n",
        "    # why one is added?\n",
        "\n",
        "    return bounding_boxes.T"
      ],
      "execution_count": 0,
      "outputs": []
    },
    {
      "cell_type": "code",
      "metadata": {
        "id": "cLSCs31_95JX",
        "colab_type": "code",
        "colab": {
          "base_uri": "https://localhost:8080/",
          "height": 35
        },
        "outputId": "e764d17a-d7fa-4277-831b-7805ad2fb3e3"
      },
      "source": [
        "!cp \"/content/box_utils.py\" ."
      ],
      "execution_count": 11,
      "outputs": [
        {
          "output_type": "stream",
          "text": [
            "cp: '/content/box_utils.py' and './box_utils.py' are the same file\n"
          ],
          "name": "stdout"
        }
      ]
    },
    {
      "cell_type": "code",
      "metadata": {
        "id": "Qpckf9N2AHI7",
        "colab_type": "code",
        "colab": {
          "base_uri": "https://localhost:8080/",
          "height": 35
        },
        "outputId": "80b56277-db4c-454c-f6ab-190f064a36cc"
      },
      "source": [
        "from mtcnn.mtcnn import MTCNN"
      ],
      "execution_count": 7,
      "outputs": [
        {
          "output_type": "stream",
          "text": [
            "Using TensorFlow backend.\n"
          ],
          "name": "stderr"
        }
      ]
    },
    {
      "cell_type": "code",
      "metadata": {
        "id": "KRvpDaUCAT89",
        "colab_type": "code",
        "colab": {}
      },
      "source": [
        "box_utils=MTCNN()"
      ],
      "execution_count": 0,
      "outputs": []
    },
    {
      "cell_type": "code",
      "metadata": {
        "id": "g9G6pYtRAQE8",
        "colab_type": "code",
        "colab": {
          "base_uri": "https://localhost:8080/",
          "height": 292
        },
        "outputId": "17dbd501-98a6-4d49-e72e-33ce06b30896"
      },
      "source": [
        "!pip install mtcnn"
      ],
      "execution_count": 6,
      "outputs": [
        {
          "output_type": "stream",
          "text": [
            "Collecting mtcnn\n",
            "\u001b[?25l  Downloading https://files.pythonhosted.org/packages/67/43/abee91792797c609c1bf30f1112117f7a87a713ebaa6ec5201d5555a73ef/mtcnn-0.1.0-py3-none-any.whl (2.3MB)\n",
            "\u001b[K     |████████████████████████████████| 2.3MB 2.7MB/s \n",
            "\u001b[?25hRequirement already satisfied: opencv-python>=4.1.0 in /usr/local/lib/python3.6/dist-packages (from mtcnn) (4.1.2.30)\n",
            "Requirement already satisfied: keras>=2.0.0 in /usr/local/lib/python3.6/dist-packages (from mtcnn) (2.3.1)\n",
            "Requirement already satisfied: numpy>=1.11.3 in /usr/local/lib/python3.6/dist-packages (from opencv-python>=4.1.0->mtcnn) (1.18.4)\n",
            "Requirement already satisfied: h5py in /usr/local/lib/python3.6/dist-packages (from keras>=2.0.0->mtcnn) (2.10.0)\n",
            "Requirement already satisfied: keras-applications>=1.0.6 in /usr/local/lib/python3.6/dist-packages (from keras>=2.0.0->mtcnn) (1.0.8)\n",
            "Requirement already satisfied: pyyaml in /usr/local/lib/python3.6/dist-packages (from keras>=2.0.0->mtcnn) (3.13)\n",
            "Requirement already satisfied: scipy>=0.14 in /usr/local/lib/python3.6/dist-packages (from keras>=2.0.0->mtcnn) (1.4.1)\n",
            "Requirement already satisfied: keras-preprocessing>=1.0.5 in /usr/local/lib/python3.6/dist-packages (from keras>=2.0.0->mtcnn) (1.1.2)\n",
            "Requirement already satisfied: six>=1.9.0 in /usr/local/lib/python3.6/dist-packages (from keras>=2.0.0->mtcnn) (1.12.0)\n",
            "Installing collected packages: mtcnn\n",
            "Successfully installed mtcnn-0.1.0\n"
          ],
          "name": "stdout"
        }
      ]
    }
  ]
}